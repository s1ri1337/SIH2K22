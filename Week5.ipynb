{
  "cells": [
    {
      "cell_type": "code",
      "execution_count": 1,
      "metadata": {
        "id": "6ekzkKcvwWgj"
      },
      "outputs": [],
      "source": [
        "from sklearn.datasets import fetch_california_housing\n",
        "import pandas as pd\n",
        "from sklearn.preprocessing import MinMaxScaler\n",
        "from sklearn.model_selection import train_test_split\n",
        "import tensorflow as tf\n",
        "from tensorflow import keras\n",
        "import numpy as np\n",
        "import matplotlib.pyplot as plt\n",
        "import seaborn as sns\n",
        "from sklearn.metrics import r2_score,mean_squared_error\n",
        "from tensorflow.keras.metrics import MeanSquaredError"
      ]
    },
    {
      "cell_type": "markdown",
      "metadata": {
        "id": "Cbx3buj_Pwvr"
      },
      "source": [
        "## Downloading California Housing Dataset"
      ]
    },
    {
      "cell_type": "code",
      "execution_count": 2,
      "metadata": {
        "colab": {
          "base_uri": "https://localhost:8080/"
        },
        "id": "ahqZl2v9AbBI",
        "outputId": "9ae77e9f-fa6a-4e0b-d639-b646c3fde5c0"
      },
      "outputs": [
        {
          "output_type": "stream",
          "name": "stdout",
          "text": [
            ".. _california_housing_dataset:\n",
            "\n",
            "California Housing dataset\n",
            "--------------------------\n",
            "\n",
            "**Data Set Characteristics:**\n",
            "\n",
            "    :Number of Instances: 20640\n",
            "\n",
            "    :Number of Attributes: 8 numeric, predictive attributes and the target\n",
            "\n",
            "    :Attribute Information:\n",
            "        - MedInc        median income in block group\n",
            "        - HouseAge      median house age in block group\n",
            "        - AveRooms      average number of rooms per household\n",
            "        - AveBedrms     average number of bedrooms per household\n",
            "        - Population    block group population\n",
            "        - AveOccup      average number of household members\n",
            "        - Latitude      block group latitude\n",
            "        - Longitude     block group longitude\n",
            "\n",
            "    :Missing Attribute Values: None\n",
            "\n",
            "This dataset was obtained from the StatLib repository.\n",
            "https://www.dcc.fc.up.pt/~ltorgo/Regression/cal_housing.html\n",
            "\n",
            "The target variable is the median house value for California districts,\n",
            "expressed in hundreds of thousands of dollars ($100,000).\n",
            "\n",
            "This dataset was derived from the 1990 U.S. census, using one row per census\n",
            "block group. A block group is the smallest geographical unit for which the U.S.\n",
            "Census Bureau publishes sample data (a block group typically has a population\n",
            "of 600 to 3,000 people).\n",
            "\n",
            "An household is a group of people residing within a home. Since the average\n",
            "number of rooms and bedrooms in this dataset are provided per household, these\n",
            "columns may take surpinsingly large values for block groups with few households\n",
            "and many empty houses, such as vacation resorts.\n",
            "\n",
            "It can be downloaded/loaded using the\n",
            ":func:`sklearn.datasets.fetch_california_housing` function.\n",
            "\n",
            ".. topic:: References\n",
            "\n",
            "    - Pace, R. Kelley and Ronald Barry, Sparse Spatial Autoregressions,\n",
            "      Statistics and Probability Letters, 33 (1997) 291-297\n",
            "\n"
          ]
        }
      ],
      "source": [
        "ch = fetch_california_housing()\n",
        "print(ch.DESCR)"
      ]
    },
    {
      "cell_type": "code",
      "execution_count": 3,
      "metadata": {
        "id": "SeebsD80F5Xq"
      },
      "outputs": [],
      "source": [
        "x = pd.DataFrame(fetch_california_housing().data)\n",
        "y = pd.DataFrame(fetch_california_housing().target)"
      ]
    },
    {
      "cell_type": "markdown",
      "metadata": {
        "id": "TK8tQJDeJWfy"
      },
      "source": [
        "## Normalising the data"
      ]
    },
    {
      "cell_type": "code",
      "execution_count": 4,
      "metadata": {
        "id": "ghKsNwuGBALx"
      },
      "outputs": [],
      "source": [
        "scale = MinMaxScaler()\n",
        "scalled = scale.fit_transform(x,y)"
      ]
    },
    {
      "cell_type": "code",
      "execution_count": 5,
      "metadata": {
        "id": "qBmK6FpsBfDR"
      },
      "outputs": [],
      "source": [
        "x = scalled[:,0:8]\n",
        "y = scalled[:,-1]\n",
        "x_train, x_test, y_train, y_test = train_test_split(x, y, test_size=0.20, random_state=42)"
      ]
    },
    {
      "cell_type": "code",
      "execution_count": 6,
      "metadata": {
        "colab": {
          "base_uri": "https://localhost:8080/"
        },
        "id": "4KqyHiS9qcoj",
        "outputId": "7a6bac5a-e9ec-42f4-98ab-cb581eb4de00"
      },
      "outputs": [
        {
          "output_type": "execute_result",
          "data": {
            "text/plain": [
              "(16512, 8)"
            ]
          },
          "metadata": {},
          "execution_count": 6
        }
      ],
      "source": [
        "x_train.shape"
      ]
    },
    {
      "cell_type": "code",
      "execution_count": 7,
      "metadata": {
        "colab": {
          "base_uri": "https://localhost:8080/"
        },
        "id": "Y8AxESinqeir",
        "outputId": "08cc494a-c53f-478c-8ad5-16123a17b6e1"
      },
      "outputs": [
        {
          "output_type": "execute_result",
          "data": {
            "text/plain": [
              "(4128, 8)"
            ]
          },
          "metadata": {},
          "execution_count": 7
        }
      ],
      "source": [
        "x_test.shape"
      ]
    },
    {
      "cell_type": "code",
      "execution_count": 8,
      "metadata": {
        "colab": {
          "base_uri": "https://localhost:8080/"
        },
        "id": "5Qi3Pf16qgsD",
        "outputId": "d16f0265-58e8-47cc-bb46-2fc0e780fb83"
      },
      "outputs": [
        {
          "output_type": "execute_result",
          "data": {
            "text/plain": [
              "(16512,)"
            ]
          },
          "metadata": {},
          "execution_count": 8
        }
      ],
      "source": [
        "y_train.shape"
      ]
    },
    {
      "cell_type": "code",
      "execution_count": 9,
      "metadata": {
        "colab": {
          "base_uri": "https://localhost:8080/"
        },
        "id": "nCWhs12lB1rF",
        "outputId": "b2fe5bcc-18b3-4470-d14b-51de8a42e23e"
      },
      "outputs": [
        {
          "output_type": "execute_result",
          "data": {
            "text/plain": [
              "(4128,)"
            ]
          },
          "metadata": {},
          "execution_count": 9
        }
      ],
      "source": [
        "y_test.shape"
      ]
    },
    {
      "cell_type": "markdown",
      "metadata": {
        "id": "J-o4KRvvJL8b"
      },
      "source": [
        "# Regression Multi-Layer Perceptron"
      ]
    },
    {
      "cell_type": "code",
      "execution_count": 10,
      "metadata": {
        "colab": {
          "base_uri": "https://localhost:8080/"
        },
        "id": "tGGenbGgB4bJ",
        "outputId": "55660f42-0659-499e-92cb-9ab2ebdf38f6"
      },
      "outputs": [
        {
          "output_type": "stream",
          "name": "stdout",
          "text": [
            "Epoch 1/20\n",
            "3612/3612 [==============================] - 10s 2ms/step - loss: 5.7733e-04 - mse: 5.7733e-04 - val_loss: 3.6478e-04 - val_mse: 3.6478e-04\n",
            "Epoch 2/20\n",
            "3612/3612 [==============================] - 8s 2ms/step - loss: 4.9456e-05 - mse: 4.9456e-05 - val_loss: 8.1330e-06 - val_mse: 8.1330e-06\n",
            "Epoch 3/20\n",
            "3612/3612 [==============================] - 8s 2ms/step - loss: 4.4394e-05 - mse: 4.4394e-05 - val_loss: 3.2270e-06 - val_mse: 3.2270e-06\n",
            "Epoch 4/20\n",
            "3612/3612 [==============================] - 14s 4ms/step - loss: 1.8290e-05 - mse: 1.8290e-05 - val_loss: 4.1316e-05 - val_mse: 4.1316e-05\n",
            "Epoch 5/20\n",
            "3612/3612 [==============================] - 9s 2ms/step - loss: 1.1283e-05 - mse: 1.1283e-05 - val_loss: 1.6157e-07 - val_mse: 1.6157e-07\n",
            "Epoch 6/20\n",
            "3612/3612 [==============================] - 8s 2ms/step - loss: 1.7624e-05 - mse: 1.7624e-05 - val_loss: 4.5600e-05 - val_mse: 4.5600e-05\n",
            "Epoch 7/20\n",
            "3612/3612 [==============================] - 8s 2ms/step - loss: 1.6315e-05 - mse: 1.6315e-05 - val_loss: 1.0695e-05 - val_mse: 1.0695e-05\n",
            "Epoch 8/20\n",
            "3612/3612 [==============================] - 8s 2ms/step - loss: 1.0057e-05 - mse: 1.0057e-05 - val_loss: 1.6333e-06 - val_mse: 1.6333e-06\n",
            "Epoch 9/20\n",
            "3612/3612 [==============================] - 8s 2ms/step - loss: 1.7842e-05 - mse: 1.7842e-05 - val_loss: 6.9449e-07 - val_mse: 6.9449e-07\n",
            "Epoch 10/20\n",
            "3612/3612 [==============================] - 8s 2ms/step - loss: 9.1699e-06 - mse: 9.1699e-06 - val_loss: 1.9876e-05 - val_mse: 1.9876e-05\n",
            "Epoch 11/20\n",
            "3612/3612 [==============================] - 7s 2ms/step - loss: 1.1830e-05 - mse: 1.1830e-05 - val_loss: 3.0450e-07 - val_mse: 3.0450e-07\n",
            "Epoch 12/20\n",
            "3612/3612 [==============================] - 9s 2ms/step - loss: 9.2917e-06 - mse: 9.2917e-06 - val_loss: 5.4620e-07 - val_mse: 5.4620e-07\n",
            "Epoch 13/20\n",
            "3612/3612 [==============================] - 7s 2ms/step - loss: 1.5449e-05 - mse: 1.5449e-05 - val_loss: 2.2135e-06 - val_mse: 2.2135e-06\n",
            "Epoch 14/20\n",
            "3612/3612 [==============================] - 7s 2ms/step - loss: 1.2689e-05 - mse: 1.2689e-05 - val_loss: 1.0190e-07 - val_mse: 1.0190e-07\n",
            "Epoch 15/20\n",
            "3612/3612 [==============================] - 8s 2ms/step - loss: 8.0194e-06 - mse: 8.0194e-06 - val_loss: 2.6252e-06 - val_mse: 2.6252e-06\n",
            "Epoch 16/20\n",
            "3612/3612 [==============================] - 8s 2ms/step - loss: 8.5964e-06 - mse: 8.5964e-06 - val_loss: 1.7477e-07 - val_mse: 1.7477e-07\n",
            "Epoch 17/20\n",
            "3612/3612 [==============================] - 7s 2ms/step - loss: 1.0580e-05 - mse: 1.0580e-05 - val_loss: 1.0677e-07 - val_mse: 1.0677e-07\n",
            "Epoch 18/20\n",
            "3612/3612 [==============================] - 8s 2ms/step - loss: 1.2717e-05 - mse: 1.2717e-05 - val_loss: 1.7743e-05 - val_mse: 1.7743e-05\n",
            "Epoch 19/20\n",
            "3612/3612 [==============================] - 8s 2ms/step - loss: 9.3784e-06 - mse: 9.3784e-06 - val_loss: 5.3085e-08 - val_mse: 5.3085e-08\n",
            "Epoch 20/20\n",
            "3612/3612 [==============================] - 8s 2ms/step - loss: 1.2434e-05 - mse: 1.2434e-05 - val_loss: 9.6309e-07 - val_mse: 9.6309e-07\n"
          ]
        }
      ],
      "source": [
        "model = keras.Sequential([keras.layers.InputLayer(input_shape = 8, name = \"InputLayer\"), \n",
        "                          keras.layers.Dense(30, activation=\"relu\", name = \"hiddenlayer1\"),\n",
        "                          keras.layers.Dense(1, activation=\"relu\", name = \"outputlayer\")\n",
        "                          ])\n",
        "opt = tf.keras.optimizers.Adam(learning_rate=0.01)\n",
        "model.compile(loss=tf.keras.metrics.mean_squared_error, optimizer=opt, metrics=[MeanSquaredError(name='mse')])\n",
        "history = model.fit(x_train, y_train, epochs=20, validation_split=0.125, batch_size=4)"
      ]
    },
    {
      "cell_type": "code",
      "execution_count": 11,
      "metadata": {
        "colab": {
          "base_uri": "https://localhost:8080/",
          "height": 295
        },
        "id": "qZ0is6NxEzbK",
        "outputId": "841357f7-3e55-4474-9bc1-1a4aee6c64b5"
      },
      "outputs": [
        {
          "output_type": "display_data",
          "data": {
            "text/plain": [
              "<Figure size 432x288 with 1 Axes>"
            ],
            "image/png": "[encoded data removed]"
          },
          "metadata": {}
        }
      ],
      "source": [
        "sns.set_style(\"darkgrid\")\n",
        "#get the details form the history object\n",
        "rmse = history.history['mse']\n",
        "val_rmse = history.history['val_mse']\n",
        "loss = history.history['loss']\n",
        "val_loss = history.history['val_loss']\n",
        "\n",
        "epochs = range(1, len(rmse) + 1)\n",
        "\n",
        "#Train and validation accuracy\n",
        "plt.plot(epochs, rmse, 'b', label='Training mse')\n",
        "plt.plot(epochs, val_rmse, 'r', label='Validation mse')\n",
        "plt.xlabel('Epoch #')\n",
        "plt.ylabel('mse')\n",
        "plt.title('Training and Validation mse for 1 Layer MLP')\n",
        "plt.legend()\n",
        "\n",
        "plt.show()"
      ]
    },
    {
      "cell_type": "code",
      "source": [
        "model.evaluate(x_test, y_test)"
      ],
      "metadata": {
        "colab": {
          "base_uri": "https://localhost:8080/"
        },
        "id": "PTuRJkXDAAaS",
        "outputId": "2dce0e45-898e-4591-bbcb-bfbca86e0782"
      },
      "execution_count": 12,
      "outputs": [
        {
          "output_type": "stream",
          "name": "stdout",
          "text": [
            "129/129 [==============================] - 0s 2ms/step - loss: 2.7099e-07 - mse: 2.7099e-07\n"
          ]
        },
        {
          "output_type": "execute_result",
          "data": {
            "text/plain": [
              "[2.709889486141037e-07, 2.709889486141037e-07]"
            ]
          },
          "metadata": {},
          "execution_count": 12
        }
      ]
    },
    {
      "cell_type": "markdown",
      "metadata": {
        "id": "BriC0T68XkKs"
      },
      "source": [
        "The Regression MLP gives an accuracy in the range of 5x10^-6 for training and 7x10^-7 for testing which is a very good accuracy"
      ]
    },
    {
      "cell_type": "markdown",
      "metadata": {
        "id": "VbvoVAluKjkx"
      },
      "source": [
        "# Deep and wide Neural Network\n",
        "![image.png](data:image/png;base64,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)"
      ]
    },
    {
      "cell_type": "code",
      "execution_count": 13,
      "metadata": {
        "id": "aWzdwyAhQ5-7"
      },
      "outputs": [],
      "source": [
        "x_wide_train = x_train[:, 0:5]\n",
        "x_deep_train = x_train[:, 2:8]\n",
        "\n",
        "#x_wide_train, x_wide_test, y_train, y_test = train_test_split(x_wide, y, test_size=0.20, random_state=42)\n",
        "#x_deep_train, x_deep_test, y_train, y_test = train_test_split(x_deep, y, test_size=0.20, random_state=42)"
      ]
    },
    {
      "cell_type": "code",
      "execution_count": 14,
      "metadata": {
        "colab": {
          "base_uri": "https://localhost:8080/"
        },
        "id": "bo4N9mEFHb1Y",
        "outputId": "b5c59cd1-e0b8-4462-b866-6e6c4bd5194f"
      },
      "outputs": [
        {
          "output_type": "stream",
          "name": "stdout",
          "text": [
            "Model: \"model\"\n",
            "__________________________________________________________________________________________________\n",
            " Layer (type)                   Output Shape         Param #     Connected to                     \n",
            "==================================================================================================\n",
            " input_2 (InputLayer)           [(None, 6)]          0           []                               \n",
            "                                                                                                  \n",
            " dense (Dense)                  (None, 30)           210         ['input_2[0][0]']                \n",
            "                                                                                                  \n",
            " input_1 (InputLayer)           [(None, 5)]          0           []                               \n",
            "                                                                                                  \n",
            " dense_1 (Dense)                (None, 30)           930         ['dense[0][0]']                  \n",
            "                                                                                                  \n",
            " concatenate (Concatenate)      (None, 35)           0           ['input_1[0][0]',                \n",
            "                                                                  'dense_1[0][0]']                \n",
            "                                                                                                  \n",
            " dense_2 (Dense)                (None, 1)            36          ['concatenate[0][0]']            \n",
            "                                                                                                  \n",
            "==================================================================================================\n",
            "Total params: 1,176\n",
            "Trainable params: 1,176\n",
            "Non-trainable params: 0\n",
            "__________________________________________________________________________________________________\n"
          ]
        }
      ],
      "source": [
        "inputA = keras.layers.Input(shape=(5))\n",
        "inputB = keras.layers.Input(shape=(6))\n",
        "hidden1 = keras.layers.Dense(30, activation=\"relu\")(inputB)\n",
        "hidden2 = keras.layers.Dense(30, activation=\"relu\")(hidden1)\n",
        "concat = keras.layers.Concatenate()([inputA, hidden2])\n",
        "output = keras.layers.Dense(1, activation=\"relu\")(concat)\n",
        "model = keras.Model(inputs=[inputA, inputB], outputs=[output])\n",
        "model.summary()"
      ]
    },
    {
      "cell_type": "code",
      "execution_count": 15,
      "metadata": {
        "colab": {
          "base_uri": "https://localhost:8080/"
        },
        "id": "0v-l0qkiTpu0",
        "outputId": "cb63aaf2-cade-47d1-f57f-6c390b8ac306"
      },
      "outputs": [
        {
          "output_type": "stream",
          "name": "stdout",
          "text": [
            "Epoch 1/20\n",
            "3612/3612 [==============================] - 9s 2ms/step - loss: 0.0677 - mse: 0.0677 - val_loss: 2.5322e-05 - val_mse: 2.5322e-05\n",
            "Epoch 2/20\n",
            "3612/3612 [==============================] - 8s 2ms/step - loss: 6.0450e-05 - mse: 6.0450e-05 - val_loss: 4.9783e-05 - val_mse: 4.9783e-05\n",
            "Epoch 3/20\n",
            "3612/3612 [==============================] - 8s 2ms/step - loss: 6.9133e-05 - mse: 6.9133e-05 - val_loss: 3.1832e-06 - val_mse: 3.1832e-06\n",
            "Epoch 4/20\n",
            "3612/3612 [==============================] - 8s 2ms/step - loss: 4.7944e-05 - mse: 4.7944e-05 - val_loss: 3.1534e-06 - val_mse: 3.1534e-06\n",
            "Epoch 5/20\n",
            "3612/3612 [==============================] - 9s 2ms/step - loss: 1.7149e-05 - mse: 1.7149e-05 - val_loss: 3.2874e-06 - val_mse: 3.2874e-06\n",
            "Epoch 6/20\n",
            "3612/3612 [==============================] - 8s 2ms/step - loss: 2.6528e-05 - mse: 2.6528e-05 - val_loss: 3.5981e-06 - val_mse: 3.5981e-06\n",
            "Epoch 7/20\n",
            "3612/3612 [==============================] - 9s 2ms/step - loss: 4.7000e-05 - mse: 4.7000e-05 - val_loss: 1.0004e-05 - val_mse: 1.0004e-05\n",
            "Epoch 8/20\n",
            "3612/3612 [==============================] - 8s 2ms/step - loss: 1.7553e-05 - mse: 1.7553e-05 - val_loss: 1.5121e-06 - val_mse: 1.5121e-06\n",
            "Epoch 9/20\n",
            "3612/3612 [==============================] - 8s 2ms/step - loss: 2.0115e-05 - mse: 2.0115e-05 - val_loss: 4.3633e-07 - val_mse: 4.3633e-07\n",
            "Epoch 10/20\n",
            "3612/3612 [==============================] - 9s 2ms/step - loss: 1.3763e-05 - mse: 1.3763e-05 - val_loss: 4.1545e-06 - val_mse: 4.1545e-06\n",
            "Epoch 11/20\n",
            "3612/3612 [==============================] - 8s 2ms/step - loss: 2.6747e-05 - mse: 2.6747e-05 - val_loss: 1.0502e-05 - val_mse: 1.0502e-05\n",
            "Epoch 12/20\n",
            "3612/3612 [==============================] - 9s 2ms/step - loss: 2.1227e-05 - mse: 2.1227e-05 - val_loss: 2.6483e-06 - val_mse: 2.6483e-06\n",
            "Epoch 13/20\n",
            "3612/3612 [==============================] - 8s 2ms/step - loss: 1.0537e-05 - mse: 1.0537e-05 - val_loss: 1.1038e-04 - val_mse: 1.1038e-04\n",
            "Epoch 14/20\n",
            "3612/3612 [==============================] - 8s 2ms/step - loss: 1.8375e-05 - mse: 1.8375e-05 - val_loss: 3.6825e-07 - val_mse: 3.6825e-07\n",
            "Epoch 15/20\n",
            "3612/3612 [==============================] - 8s 2ms/step - loss: 1.5481e-05 - mse: 1.5481e-05 - val_loss: 1.2847e-06 - val_mse: 1.2847e-06\n",
            "Epoch 16/20\n",
            "3612/3612 [==============================] - 8s 2ms/step - loss: 1.8974e-05 - mse: 1.8974e-05 - val_loss: 6.6005e-08 - val_mse: 6.6005e-08\n",
            "Epoch 17/20\n",
            "3612/3612 [==============================] - 8s 2ms/step - loss: 1.0400e-05 - mse: 1.0400e-05 - val_loss: 5.5731e-07 - val_mse: 5.5731e-07\n",
            "Epoch 18/20\n",
            "3612/3612 [==============================] - 8s 2ms/step - loss: 1.2025e-05 - mse: 1.2025e-05 - val_loss: 4.5040e-07 - val_mse: 4.5040e-07\n",
            "Epoch 19/20\n",
            "3612/3612 [==============================] - 8s 2ms/step - loss: 1.6324e-05 - mse: 1.6324e-05 - val_loss: 5.3477e-06 - val_mse: 5.3477e-06\n",
            "Epoch 20/20\n",
            "3612/3612 [==============================] - 8s 2ms/step - loss: 1.7554e-05 - mse: 1.7554e-05 - val_loss: 1.0967e-06 - val_mse: 1.0967e-06\n"
          ]
        }
      ],
      "source": [
        "opt = tf.keras.optimizers.Adam(learning_rate=0.01)\n",
        "model.compile(loss=tf.keras.metrics.mean_squared_error, optimizer=opt, metrics=[MeanSquaredError(name='mse')])\n",
        "history = model.fit((x_wide_train, x_deep_train), y_train, epochs=20, validation_split=0.125, batch_size=4)"
      ]
    },
    {
      "cell_type": "code",
      "execution_count": 16,
      "metadata": {
        "colab": {
          "base_uri": "https://localhost:8080/",
          "height": 295
        },
        "id": "BrMjwSpxTqUK",
        "outputId": "293db7d1-3dbd-437b-be1f-244af96c1441"
      },
      "outputs": [
        {
          "output_type": "display_data",
          "data": {
            "text/plain": [
              "<Figure size 432x288 with 1 Axes>"
            ],
            "image/png": "[encoded data removed]"
          },
          "metadata": {}
        }
      ],
      "source": [
        "sns.set_style(\"darkgrid\")\n",
        "#get the details form the history object\n",
        "rmse = history.history['mse']\n",
        "val_rmse = history.history['val_mse']\n",
        "loss = history.history['loss']\n",
        "val_loss = history.history['val_loss']\n",
        "\n",
        "epochs = range(1, len(rmse) + 1)\n",
        "\n",
        "#Train and validation accuracy\n",
        "plt.plot(epochs, rmse, 'b', label='Training mse')\n",
        "plt.plot(epochs, val_rmse, 'r', label='Validation mse')\n",
        "plt.xlabel('Epoch #')\n",
        "plt.ylabel('mse')\n",
        "plt.title('Training and Validation mse for Deep and Wide Network')\n",
        "plt.legend()\n",
        "\n",
        "plt.show()"
      ]
    },
    {
      "cell_type": "code",
      "source": [
        "model.evaluate(x = [x_test[:,0:5], x_test[:,2:8]], y = y_test)"
      ],
      "metadata": {
        "colab": {
          "base_uri": "https://localhost:8080/"
        },
        "id": "8f7LbkQZAtTK",
        "outputId": "276d4479-c1e3-406f-ce5e-9e6d21dea9dd"
      },
      "execution_count": 19,
      "outputs": [
        {
          "output_type": "stream",
          "name": "stdout",
          "text": [
            "129/129 [==============================] - 0s 2ms/step - loss: 1.0418e-06 - mse: 1.0418e-06\n"
          ]
        },
        {
          "output_type": "execute_result",
          "data": {
            "text/plain": [
              "[1.041773202814511e-06, 1.041773202814511e-06]"
            ]
          },
          "metadata": {},
          "execution_count": 19
        }
      ]
    },
    {
      "cell_type": "markdown",
      "source": [
        "The Deep and Wide Neural Network has similar MSE compared to a Regression MLP."
      ],
      "metadata": {
        "id": "gf3fxim18GzI"
      }
    }
  ],
  "metadata": {
    "colab": {
      "collapsed_sections": [],
      "name": "200968232_DL_Week5.ipynb",
      "provenance": [],
      "authorship_tag": "ABX9TyOyhXGqUPvjURdOa39VRCXG"
    },
    "kernelspec": {
      "display_name": "Python 3",
      "name": "python3"
    },
    "language_info": {
      "name": "python"
    },
    "accelerator": "GPU",
    "gpuClass": "standard"
  },
  "nbformat": 4,
  "nbformat_minor": 0
}