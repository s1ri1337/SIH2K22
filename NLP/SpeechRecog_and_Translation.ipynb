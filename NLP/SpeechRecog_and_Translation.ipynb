{
 "cells": [
  {
   "cell_type": "code",
   "execution_count": null,
   "metadata": {
    "colab": {
     "base_uri": "https://localhost:8080/"
    },
    "id": "DI0TsXHPMCxP",
    "outputId": "88b4aac5-a0ed-4d41-d36c-ca605f51e278"
   },
   "outputs": [],
   "source": [
    "!apt install libasound2-dev portaudio19-dev libportaudio2 libportaudiocpp0 ffmpeg"
   ]
  },
  {
   "cell_type": "code",
   "execution_count": null,
   "metadata": {
    "colab": {
     "base_uri": "https://localhost:8080/"
    },
    "id": "q2FSBD3lM0iQ",
    "outputId": "2da0f88d-d9f7-4c85-a791-0de69105de9f"
   },
   "outputs": [],
   "source": [
    "!pip install SpeechRecognition\n",
    "!pip install PyAudio"
   ]
  },
  {
   "cell_type": "code",
   "execution_count": 1,
   "metadata": {
    "id": "A4pawpwSMHAK"
   },
   "outputs": [],
   "source": [
    "import speech_recognition as sr\n",
    "from googletrans import Translator"
   ]
  },
  {
   "cell_type": "code",
   "execution_count": 2,
   "metadata": {
    "id": "T2CZQpxkMiCT"
   },
   "outputs": [],
   "source": [
    "def takeCommandHindi():\n",
    "         \n",
    "    r = sr.Recognizer()\n",
    "    with sr.Microphone() as source:\n",
    "          \n",
    "        # seconds of non-speaking audio before \n",
    "        # a phrase is considered complete\n",
    "        print('Listening')\n",
    "        r.pause_threshold = 0.7  \n",
    "        audio = r.listen(source)  \n",
    "        try:\n",
    "            print(\"Recognizing\")\n",
    "            Query = r.recognize_google(audio, language='hi-In')\n",
    "              \n",
    "            # for listening the command in indian english\n",
    "            print(\"the query is printed='\", Query, \"'\")\n",
    "          \n",
    "        # handling the exception, so that assistant can \n",
    "        # ask for telling again the command\n",
    "        except Exception as e:\n",
    "            print(e)  \n",
    "            print(\"Say that again sir\")\n",
    "            return \"None\"\n",
    "        return Query"
   ]
  },
  {
   "cell_type": "code",
   "execution_count": null,
   "metadata": {
    "colab": {
     "base_uri": "https://localhost:8080/",
     "height": 318
    },
    "id": "fbMj8y_KMnVb",
    "outputId": "1ad27e08-6e4b-41f7-e4bc-01f201d495ce"
   },
   "outputs": [],
   "source": [
    "query = takeCommandHindi()"
   ]
  },
  {
   "cell_type": "code",
   "execution_count": null,
   "metadata": {},
   "outputs": [],
   "source": [
    "translator = Translator()\n",
    "translation = translator.translate(query, dest='en')"
   ]
  },
  {
   "cell_type": "code",
   "execution_count": null,
   "metadata": {},
   "outputs": [],
   "source": [
    "translation.text"
   ]
  },
  {
   "cell_type": "code",
   "execution_count": null,
   "metadata": {},
   "outputs": [],
   "source": []
  }
 ],
 "metadata": {
  "colab": {
   "name": "SpeechRecogHindi.ipynb",
   "provenance": []
  },
  "kernelspec": {
   "display_name": "Python 3 (ipykernel)",
   "language": "python",
   "name": "python3"
  },
  "language_info": {
   "codemirror_mode": {
    "name": "ipython",
    "version": 3
   },
   "file_extension": ".py",
   "mimetype": "text/x-python",
   "name": "python",
   "nbconvert_exporter": "python",
   "pygments_lexer": "ipython3",
   "version": "3.9.12"
  }
 },
 "nbformat": 4,
 "nbformat_minor": 1
}
