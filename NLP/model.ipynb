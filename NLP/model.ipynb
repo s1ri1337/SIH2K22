{
 "cells": [
  {
   "cell_type": "code",
   "execution_count": 9,
   "metadata": {
    "colab": {},
    "colab_type": "code",
    "executionInfo": {
     "elapsed": 2926,
     "status": "ok",
     "timestamp": 1597677887054,
     "user": {
      "displayName": "Syed Haseeb",
      "photoUrl": "https://lh3.googleusercontent.com/a-/AOh14GiU1MvX_JHrWEeG1uD80vpjRJjS1qi71gf88HdM=s64",
      "userId": "11840246011919030811"
     },
     "user_tz": -300
    },
    "id": "PdwicsEfAprk"
   },
   "outputs": [],
   "source": [
    "import pandas as pd\n",
    "import numpy as np\n",
    "from tensorflow.keras import layers\n",
    "from tensorflow.keras import Input\n",
    "from tensorflow.keras.models import Model\n",
    "from tensorflow.keras.preprocessing import sequence\n",
    "from tensorflow.keras.preprocessing.text import Tokenizer\n",
    "import matplotlib.pyplot as plt\n",
    "from tensorflow.keras.callbacks import EarlyStopping"
   ]
  },
  {
   "cell_type": "code",
   "execution_count": 10,
   "metadata": {
    "colab": {},
    "colab_type": "code",
    "executionInfo": {
     "elapsed": 1065,
     "status": "ok",
     "timestamp": 1597677946388,
     "user": {
      "displayName": "Syed Haseeb",
      "photoUrl": "https://lh3.googleusercontent.com/a-/AOh14GiU1MvX_JHrWEeG1uD80vpjRJjS1qi71gf88HdM=s64",
      "userId": "11840246011919030811"
     },
     "user_tz": -300
    },
    "id": "XcJWzJZKAprq"
   },
   "outputs": [],
   "source": [
    "df = pd.read_csv(\"data/train.csv\")"
   ]
  },
  {
   "cell_type": "code",
   "execution_count": 10,
   "metadata": {
    "colab": {
     "base_uri": "https://localhost:8080/",
     "height": 34
    },
    "colab_type": "code",
    "executionInfo": {
     "elapsed": 15501,
     "status": "ok",
     "timestamp": 1597678746628,
     "user": {
      "displayName": "Syed Haseeb",
      "photoUrl": "https://lh3.googleusercontent.com/a-/AOh14GiU1MvX_JHrWEeG1uD80vpjRJjS1qi71gf88HdM=s64",
      "userId": "11840246011919030811"
     },
     "user_tz": -300
    },
    "id": "xu_HcgoOAprx",
    "outputId": "1f854e30-ed3a-417b-ac17-fd123a99264e"
   },
   "outputs": [
    {
     "ename": "UnicodeDecodeError",
     "evalue": "'utf-8' codec can't decode byte 0xdf in position 1: invalid continuation byte",
     "output_type": "error",
     "traceback": [
      "\u001b[1;31m---------------------------------------------------------------------------\u001b[0m",
      "\u001b[1;31mUnicodeDecodeError\u001b[0m                        Traceback (most recent call last)",
      "Input \u001b[1;32mIn [10]\u001b[0m, in \u001b[0;36m<cell line: 3>\u001b[1;34m()\u001b[0m\n\u001b[0;32m      1\u001b[0m embeddings_index \u001b[38;5;241m=\u001b[39m {}\n\u001b[0;32m      2\u001b[0m f \u001b[38;5;241m=\u001b[39m \u001b[38;5;28mopen\u001b[39m(\u001b[38;5;124m'\u001b[39m\u001b[38;5;124mdata/glove.6B.100d.txt\u001b[39m\u001b[38;5;124m'\u001b[39m,encoding\u001b[38;5;241m=\u001b[39m\u001b[38;5;124m\"\u001b[39m\u001b[38;5;124mutf\u001b[39m\u001b[38;5;124m\"\u001b[39m)\n\u001b[1;32m----> 3\u001b[0m \u001b[38;5;28;01mfor\u001b[39;00m line \u001b[38;5;129;01min\u001b[39;00m f:\n\u001b[0;32m      4\u001b[0m     values \u001b[38;5;241m=\u001b[39m line\u001b[38;5;241m.\u001b[39msplit()\n\u001b[0;32m      5\u001b[0m     word \u001b[38;5;241m=\u001b[39m values[\u001b[38;5;241m0\u001b[39m]\n",
      "File \u001b[1;32m~\\.conda\\envs\\test\\lib\\codecs.py:322\u001b[0m, in \u001b[0;36mBufferedIncrementalDecoder.decode\u001b[1;34m(self, input, final)\u001b[0m\n\u001b[0;32m    319\u001b[0m \u001b[38;5;28;01mdef\u001b[39;00m \u001b[38;5;21mdecode\u001b[39m(\u001b[38;5;28mself\u001b[39m, \u001b[38;5;28minput\u001b[39m, final\u001b[38;5;241m=\u001b[39m\u001b[38;5;28;01mFalse\u001b[39;00m):\n\u001b[0;32m    320\u001b[0m     \u001b[38;5;66;03m# decode input (taking the buffer into account)\u001b[39;00m\n\u001b[0;32m    321\u001b[0m     data \u001b[38;5;241m=\u001b[39m \u001b[38;5;28mself\u001b[39m\u001b[38;5;241m.\u001b[39mbuffer \u001b[38;5;241m+\u001b[39m \u001b[38;5;28minput\u001b[39m\n\u001b[1;32m--> 322\u001b[0m     (result, consumed) \u001b[38;5;241m=\u001b[39m \u001b[38;5;28;43mself\u001b[39;49m\u001b[38;5;241;43m.\u001b[39;49m\u001b[43m_buffer_decode\u001b[49m\u001b[43m(\u001b[49m\u001b[43mdata\u001b[49m\u001b[43m,\u001b[49m\u001b[43m \u001b[49m\u001b[38;5;28;43mself\u001b[39;49m\u001b[38;5;241;43m.\u001b[39;49m\u001b[43merrors\u001b[49m\u001b[43m,\u001b[49m\u001b[43m \u001b[49m\u001b[43mfinal\u001b[49m\u001b[43m)\u001b[49m\n\u001b[0;32m    323\u001b[0m     \u001b[38;5;66;03m# keep undecoded input until the next call\u001b[39;00m\n\u001b[0;32m    324\u001b[0m     \u001b[38;5;28mself\u001b[39m\u001b[38;5;241m.\u001b[39mbuffer \u001b[38;5;241m=\u001b[39m data[consumed:]\n",
      "\u001b[1;31mUnicodeDecodeError\u001b[0m: 'utf-8' codec can't decode byte 0xdf in position 1: invalid continuation byte"
     ]
    }
   ],
   "source": [
    "embeddings_index = {}\n",
    "f = open('data/glove.6B.100d.txt',encoding=\"utf\")\n",
    "for line in f:\n",
    "    values = line.split()\n",
    "    word = values[0]\n",
    "    coefs = np.asarray(values[1:], dtype='float32')\n",
    "    embeddings_index[word] = coefs\n",
    "f.close()\n",
    "print('Found %s word vectors.' % len(embeddings_index))"
   ]
  },
  {
   "cell_type": "markdown",
   "metadata": {
    "colab_type": "text",
    "id": "xlT3k2k5Apr5"
   },
   "source": [
    "## View the data:"
   ]
  },
  {
   "cell_type": "code",
   "execution_count": 11,
   "metadata": {
    "colab": {
     "base_uri": "https://localhost:8080/",
     "height": 195
    },
    "colab_type": "code",
    "executionInfo": {
     "elapsed": 988,
     "status": "ok",
     "timestamp": 1597678772622,
     "user": {
      "displayName": "Syed Haseeb",
      "photoUrl": "https://lh3.googleusercontent.com/a-/AOh14GiU1MvX_JHrWEeG1uD80vpjRJjS1qi71gf88HdM=s64",
      "userId": "11840246011919030811"
     },
     "user_tz": -300
    },
    "id": "P-EEdENRApr6",
    "outputId": "a0bda1cf-baeb-4a3d-ce4e-89793b9306c7"
   },
   "outputs": [
    {
     "data": {
      "text/html": [
       "<div>\n",
       "<style scoped>\n",
       "    .dataframe tbody tr th:only-of-type {\n",
       "        vertical-align: middle;\n",
       "    }\n",
       "\n",
       "    .dataframe tbody tr th {\n",
       "        vertical-align: top;\n",
       "    }\n",
       "\n",
       "    .dataframe thead th {\n",
       "        text-align: right;\n",
       "    }\n",
       "</style>\n",
       "<table border=\"1\" class=\"dataframe\">\n",
       "  <thead>\n",
       "    <tr style=\"text-align: right;\">\n",
       "      <th></th>\n",
       "      <th>id</th>\n",
       "      <th>keyword</th>\n",
       "      <th>location</th>\n",
       "      <th>text</th>\n",
       "      <th>target</th>\n",
       "    </tr>\n",
       "  </thead>\n",
       "  <tbody>\n",
       "    <tr>\n",
       "      <th>0</th>\n",
       "      <td>1</td>\n",
       "      <td>NaN</td>\n",
       "      <td>NaN</td>\n",
       "      <td>Our Deeds are the Reason of this #earthquake M...</td>\n",
       "      <td>1</td>\n",
       "    </tr>\n",
       "    <tr>\n",
       "      <th>1</th>\n",
       "      <td>4</td>\n",
       "      <td>NaN</td>\n",
       "      <td>NaN</td>\n",
       "      <td>Forest fire near La Ronge Sask. Canada</td>\n",
       "      <td>1</td>\n",
       "    </tr>\n",
       "    <tr>\n",
       "      <th>2</th>\n",
       "      <td>5</td>\n",
       "      <td>NaN</td>\n",
       "      <td>NaN</td>\n",
       "      <td>All residents asked to 'shelter in place' are ...</td>\n",
       "      <td>1</td>\n",
       "    </tr>\n",
       "    <tr>\n",
       "      <th>3</th>\n",
       "      <td>6</td>\n",
       "      <td>NaN</td>\n",
       "      <td>NaN</td>\n",
       "      <td>13,000 people receive #wildfires evacuation or...</td>\n",
       "      <td>1</td>\n",
       "    </tr>\n",
       "    <tr>\n",
       "      <th>4</th>\n",
       "      <td>7</td>\n",
       "      <td>NaN</td>\n",
       "      <td>NaN</td>\n",
       "      <td>Just got sent this photo from Ruby #Alaska as ...</td>\n",
       "      <td>1</td>\n",
       "    </tr>\n",
       "  </tbody>\n",
       "</table>\n",
       "</div>"
      ],
      "text/plain": [
       "   id keyword location                                               text  \\\n",
       "0   1     NaN      NaN  Our Deeds are the Reason of this #earthquake M...   \n",
       "1   4     NaN      NaN             Forest fire near La Ronge Sask. Canada   \n",
       "2   5     NaN      NaN  All residents asked to 'shelter in place' are ...   \n",
       "3   6     NaN      NaN  13,000 people receive #wildfires evacuation or...   \n",
       "4   7     NaN      NaN  Just got sent this photo from Ruby #Alaska as ...   \n",
       "\n",
       "   target  \n",
       "0       1  \n",
       "1       1  \n",
       "2       1  \n",
       "3       1  \n",
       "4       1  "
      ]
     },
     "execution_count": 11,
     "metadata": {},
     "output_type": "execute_result"
    }
   ],
   "source": [
    "df.head()"
   ]
  },
  {
   "cell_type": "markdown",
   "metadata": {
    "colab_type": "text",
    "id": "Qrb1JDzgApr-"
   },
   "source": [
    "## Let's perform some data cleaning"
   ]
  },
  {
   "cell_type": "code",
   "execution_count": 12,
   "metadata": {
    "colab": {},
    "colab_type": "code",
    "executionInfo": {
     "elapsed": 1176,
     "status": "ok",
     "timestamp": 1597678822300,
     "user": {
      "displayName": "Syed Haseeb",
      "photoUrl": "https://lh3.googleusercontent.com/a-/AOh14GiU1MvX_JHrWEeG1uD80vpjRJjS1qi71gf88HdM=s64",
      "userId": "11840246011919030811"
     },
     "user_tz": -300
    },
    "id": "c5oDc-0kApr_"
   },
   "outputs": [],
   "source": [
    "data = df.text"
   ]
  },
  {
   "cell_type": "code",
   "execution_count": 13,
   "metadata": {
    "colab": {},
    "colab_type": "code",
    "executionInfo": {
     "elapsed": 1056,
     "status": "ok",
     "timestamp": 1597678830444,
     "user": {
      "displayName": "Syed Haseeb",
      "photoUrl": "https://lh3.googleusercontent.com/a-/AOh14GiU1MvX_JHrWEeG1uD80vpjRJjS1qi71gf88HdM=s64",
      "userId": "11840246011919030811"
     },
     "user_tz": -300
    },
    "id": "TdsOIjObApsN"
   },
   "outputs": [],
   "source": [
    "labels = df.target"
   ]
  },
  {
   "cell_type": "code",
   "execution_count": 14,
   "metadata": {
    "colab": {
     "base_uri": "https://localhost:8080/",
     "height": 34
    },
    "colab_type": "code",
    "executionInfo": {
     "elapsed": 975,
     "status": "ok",
     "timestamp": 1597678835343,
     "user": {
      "displayName": "Syed Haseeb",
      "photoUrl": "https://lh3.googleusercontent.com/a-/AOh14GiU1MvX_JHrWEeG1uD80vpjRJjS1qi71gf88HdM=s64",
      "userId": "11840246011919030811"
     },
     "user_tz": -300
    },
    "id": "wDmca3d5ApsR",
    "outputId": "6ef92029-db31-4277-a991-28c3a0fa8ce2"
   },
   "outputs": [
    {
     "data": {
      "text/plain": [
       "(7613,)"
      ]
     },
     "execution_count": 14,
     "metadata": {},
     "output_type": "execute_result"
    }
   ],
   "source": [
    "data.shape"
   ]
  },
  {
   "cell_type": "code",
   "execution_count": 15,
   "metadata": {
    "colab": {
     "base_uri": "https://localhost:8080/",
     "height": 34
    },
    "colab_type": "code",
    "executionInfo": {
     "elapsed": 1219,
     "status": "ok",
     "timestamp": 1597678873291,
     "user": {
      "displayName": "Syed Haseeb",
      "photoUrl": "https://lh3.googleusercontent.com/a-/AOh14GiU1MvX_JHrWEeG1uD80vpjRJjS1qi71gf88HdM=s64",
      "userId": "11840246011919030811"
     },
     "user_tz": -300
    },
    "id": "KUKAhJrEApsX",
    "outputId": "52a1ca27-4a2c-4eba-9a82-73af1bab821c"
   },
   "outputs": [
    {
     "data": {
      "text/plain": [
       "1522.6000000000001"
      ]
     },
     "execution_count": 15,
     "metadata": {},
     "output_type": "execute_result"
    }
   ],
   "source": [
    "0.2*7613"
   ]
  },
  {
   "cell_type": "code",
   "execution_count": 16,
   "metadata": {
    "colab": {
     "base_uri": "https://localhost:8080/",
     "height": 34
    },
    "colab_type": "code",
    "executionInfo": {
     "elapsed": 1878,
     "status": "ok",
     "timestamp": 1597678892667,
     "user": {
      "displayName": "Syed Haseeb",
      "photoUrl": "https://lh3.googleusercontent.com/a-/AOh14GiU1MvX_JHrWEeG1uD80vpjRJjS1qi71gf88HdM=s64",
      "userId": "11840246011919030811"
     },
     "user_tz": -300
    },
    "id": "f__RZKeDApsd",
    "outputId": "ad0b542a-8716-4b37-f4ae-8a2ea741e783"
   },
   "outputs": [
    {
     "data": {
      "text/plain": [
       "6091"
      ]
     },
     "execution_count": 16,
     "metadata": {},
     "output_type": "execute_result"
    }
   ],
   "source": [
    "7613-1522"
   ]
  },
  {
   "cell_type": "code",
   "execution_count": 17,
   "metadata": {
    "colab": {},
    "colab_type": "code",
    "executionInfo": {
     "elapsed": 1551,
     "status": "ok",
     "timestamp": 1597678911605,
     "user": {
      "displayName": "Syed Haseeb",
      "photoUrl": "https://lh3.googleusercontent.com/a-/AOh14GiU1MvX_JHrWEeG1uD80vpjRJjS1qi71gf88HdM=s64",
      "userId": "11840246011919030811"
     },
     "user_tz": -300
    },
    "id": "expYPn6YApsh"
   },
   "outputs": [],
   "source": [
    "x_train = data[0:6100]"
   ]
  },
  {
   "cell_type": "code",
   "execution_count": 18,
   "metadata": {
    "colab": {},
    "colab_type": "code",
    "executionInfo": {
     "elapsed": 899,
     "status": "ok",
     "timestamp": 1597678918482,
     "user": {
      "displayName": "Syed Haseeb",
      "photoUrl": "https://lh3.googleusercontent.com/a-/AOh14GiU1MvX_JHrWEeG1uD80vpjRJjS1qi71gf88HdM=s64",
      "userId": "11840246011919030811"
     },
     "user_tz": -300
    },
    "id": "CQsP-071Apsl"
   },
   "outputs": [],
   "source": [
    "x_test = data[6100:]"
   ]
  },
  {
   "cell_type": "code",
   "execution_count": 19,
   "metadata": {
    "colab": {},
    "colab_type": "code",
    "executionInfo": {
     "elapsed": 1160,
     "status": "ok",
     "timestamp": 1597678927909,
     "user": {
      "displayName": "Syed Haseeb",
      "photoUrl": "https://lh3.googleusercontent.com/a-/AOh14GiU1MvX_JHrWEeG1uD80vpjRJjS1qi71gf88HdM=s64",
      "userId": "11840246011919030811"
     },
     "user_tz": -300
    },
    "id": "R6B6OtfNApsp"
   },
   "outputs": [],
   "source": [
    "y_train = labels[0:6100] "
   ]
  },
  {
   "cell_type": "code",
   "execution_count": 20,
   "metadata": {
    "colab": {},
    "colab_type": "code",
    "executionInfo": {
     "elapsed": 916,
     "status": "ok",
     "timestamp": 1597678937284,
     "user": {
      "displayName": "Syed Haseeb",
      "photoUrl": "https://lh3.googleusercontent.com/a-/AOh14GiU1MvX_JHrWEeG1uD80vpjRJjS1qi71gf88HdM=s64",
      "userId": "11840246011919030811"
     },
     "user_tz": -300
    },
    "id": "QaGU2XpNApsu"
   },
   "outputs": [],
   "source": [
    "y_test = labels[6100:]"
   ]
  },
  {
   "cell_type": "markdown",
   "metadata": {
    "colab_type": "text",
    "id": "3uf1eO1BFg0y"
   },
   "source": [
    "## Tokenizing the data"
   ]
  },
  {
   "cell_type": "code",
   "execution_count": null,
   "metadata": {
    "colab": {},
    "colab_type": "code",
    "executionInfo": {
     "elapsed": 1177,
     "status": "ok",
     "timestamp": 1597678959064,
     "user": {
      "displayName": "Syed Haseeb",
      "photoUrl": "https://lh3.googleusercontent.com/a-/AOh14GiU1MvX_JHrWEeG1uD80vpjRJjS1qi71gf88HdM=s64",
      "userId": "11840246011919030811"
     },
     "user_tz": -300
    },
    "id": "rBrPAQlOAps3"
   },
   "outputs": [],
   "source": []
  },
  {
   "cell_type": "code",
   "execution_count": 21,
   "metadata": {
    "colab": {},
    "colab_type": "code",
    "executionInfo": {
     "elapsed": 946,
     "status": "ok",
     "timestamp": 1597678962854,
     "user": {
      "displayName": "Syed Haseeb",
      "photoUrl": "https://lh3.googleusercontent.com/a-/AOh14GiU1MvX_JHrWEeG1uD80vpjRJjS1qi71gf88HdM=s64",
      "userId": "11840246011919030811"
     },
     "user_tz": -300
    },
    "id": "w-R2Q4UFAps8"
   },
   "outputs": [],
   "source": [
    "tokenizer = Tokenizer()\n",
    "tokenizer.fit_on_texts(x_train.values)\n",
    "sequences = tokenizer.texts_to_sequences(x_train.values)\n",
    "sequences = sequence.pad_sequences(sequences, maxlen=200)"
   ]
  },
  {
   "cell_type": "code",
   "execution_count": 22,
   "metadata": {
    "colab": {
     "base_uri": "https://localhost:8080/",
     "height": 34
    },
    "colab_type": "code",
    "executionInfo": {
     "elapsed": 1294,
     "status": "ok",
     "timestamp": 1597678967095,
     "user": {
      "displayName": "Syed Haseeb",
      "photoUrl": "https://lh3.googleusercontent.com/a-/AOh14GiU1MvX_JHrWEeG1uD80vpjRJjS1qi71gf88HdM=s64",
      "userId": "11840246011919030811"
     },
     "user_tz": -300
    },
    "id": "uTXrD-RDAptB",
    "outputId": "96546107-bd07-4bf2-f69b-9ec5e15503c9"
   },
   "outputs": [
    {
     "data": {
      "text/plain": [
       "(6100, 200)"
      ]
     },
     "execution_count": 22,
     "metadata": {},
     "output_type": "execute_result"
    }
   ],
   "source": [
    "sequences.shape"
   ]
  },
  {
   "cell_type": "code",
   "execution_count": 23,
   "metadata": {
    "colab": {},
    "colab_type": "code",
    "executionInfo": {
     "elapsed": 1130,
     "status": "ok",
     "timestamp": 1597679138024,
     "user": {
      "displayName": "Syed Haseeb",
      "photoUrl": "https://lh3.googleusercontent.com/a-/AOh14GiU1MvX_JHrWEeG1uD80vpjRJjS1qi71gf88HdM=s64",
      "userId": "11840246011919030811"
     },
     "user_tz": -300
    },
    "id": "A2OaUhLVAptG"
   },
   "outputs": [],
   "source": [
    "vocab_size = len(tokenizer.word_index)+1"
   ]
  },
  {
   "cell_type": "code",
   "execution_count": null,
   "metadata": {
    "colab": {},
    "colab_type": "code",
    "executionInfo": {
     "elapsed": 1355,
     "status": "ok",
     "timestamp": 1597678974776,
     "user": {
      "displayName": "Syed Haseeb",
      "photoUrl": "https://lh3.googleusercontent.com/a-/AOh14GiU1MvX_JHrWEeG1uD80vpjRJjS1qi71gf88HdM=s64",
      "userId": "11840246011919030811"
     },
     "user_tz": -300
    },
    "id": "NkNhsF_dAptL"
   },
   "outputs": [],
   "source": []
  },
  {
   "cell_type": "code",
   "execution_count": 24,
   "metadata": {
    "colab": {},
    "colab_type": "code",
    "executionInfo": {
     "elapsed": 1732,
     "status": "ok",
     "timestamp": 1597679155535,
     "user": {
      "displayName": "Syed Haseeb",
      "photoUrl": "https://lh3.googleusercontent.com/a-/AOh14GiU1MvX_JHrWEeG1uD80vpjRJjS1qi71gf88HdM=s64",
      "userId": "11840246011919030811"
     },
     "user_tz": -300
    },
    "id": "G-DnPh9jAptP"
   },
   "outputs": [],
   "source": [
    "embedding_dim = 100\n",
    "max_words=1513\n",
    "\n",
    "embedding_matrix = np.zeros((vocab_size, embedding_dim))\n",
    "for word, i in tokenizer.word_index.items():\n",
    "    if i < max_words:\n",
    "        embedding_vector = embeddings_index.get(word)\n",
    "        if embedding_vector is not None:\n",
    "            embedding_matrix[i] = embedding_vector"
   ]
  },
  {
   "cell_type": "markdown",
   "metadata": {
    "colab_type": "text",
    "id": "6vrtDhPCAptS"
   },
   "source": [
    "## Let's define the model:"
   ]
  },
  {
   "cell_type": "code",
   "execution_count": 25,
   "metadata": {
    "colab": {},
    "colab_type": "code",
    "executionInfo": {
     "elapsed": 1267,
     "status": "ok",
     "timestamp": 1597679167743,
     "user": {
      "displayName": "Syed Haseeb",
      "photoUrl": "https://lh3.googleusercontent.com/a-/AOh14GiU1MvX_JHrWEeG1uD80vpjRJjS1qi71gf88HdM=s64",
      "userId": "11840246011919030811"
     },
     "user_tz": -300
    },
    "id": "PJm0y_2wAptS"
   },
   "outputs": [],
   "source": [
    "input_layer = Input(shape=(None,), dtype='int32', name='tweet_input')\n",
    "x = layers.Embedding(vocab_size, 100, input_length=200)(input_layer)\n",
    "x = layers.LSTM(32,\n",
    "dropout=0.1,\n",
    "recurrent_dropout=0.5,\n",
    "return_sequences=True)(x)\n",
    "x = layers.LSTM(32,\n",
    "dropout=0.1,\n",
    "recurrent_dropout=0.5,\n",
    "return_sequences=False)(x)\n"
   ]
  },
  {
   "cell_type": "code",
   "execution_count": 26,
   "metadata": {
    "colab": {},
    "colab_type": "code",
    "executionInfo": {
     "elapsed": 1404,
     "status": "ok",
     "timestamp": 1597679169262,
     "user": {
      "displayName": "Syed Haseeb",
      "photoUrl": "https://lh3.googleusercontent.com/a-/AOh14GiU1MvX_JHrWEeG1uD80vpjRJjS1qi71gf88HdM=s64",
      "userId": "11840246011919030811"
     },
     "user_tz": -300
    },
    "id": "B4JSBbiPAptY"
   },
   "outputs": [],
   "source": [
    "x = layers.Dense(100, activation='relu')(x)\n",
    "output = layers.Dense(1, activation='sigmoid')(x)"
   ]
  },
  {
   "cell_type": "code",
   "execution_count": 27,
   "metadata": {
    "colab": {},
    "colab_type": "code",
    "executionInfo": {
     "elapsed": 1158,
     "status": "ok",
     "timestamp": 1597679171606,
     "user": {
      "displayName": "Syed Haseeb",
      "photoUrl": "https://lh3.googleusercontent.com/a-/AOh14GiU1MvX_JHrWEeG1uD80vpjRJjS1qi71gf88HdM=s64",
      "userId": "11840246011919030811"
     },
     "user_tz": -300
    },
    "id": "FbuKARxGAptc"
   },
   "outputs": [],
   "source": [
    "model = Model(input_layer,output)"
   ]
  },
  {
   "cell_type": "code",
   "execution_count": 28,
   "metadata": {
    "colab": {
     "base_uri": "https://localhost:8080/",
     "height": 353
    },
    "colab_type": "code",
    "executionInfo": {
     "elapsed": 1453,
     "status": "ok",
     "timestamp": 1597679173856,
     "user": {
      "displayName": "Syed Haseeb",
      "photoUrl": "https://lh3.googleusercontent.com/a-/AOh14GiU1MvX_JHrWEeG1uD80vpjRJjS1qi71gf88HdM=s64",
      "userId": "11840246011919030811"
     },
     "user_tz": -300
    },
    "id": "NWOo6SajApth",
    "outputId": "104af89a-405b-4d06-9ce8-0a61a51721df"
   },
   "outputs": [
    {
     "name": "stdout",
     "output_type": "stream",
     "text": [
      "Model: \"model\"\n",
      "_________________________________________________________________\n",
      " Layer (type)                Output Shape              Param #   \n",
      "=================================================================\n",
      " tweet_input (InputLayer)    [(None, None)]            0         \n",
      "                                                                 \n",
      " embedding (Embedding)       (None, None, 100)         1934600   \n",
      "                                                                 \n",
      " lstm (LSTM)                 (None, None, 32)          17024     \n",
      "                                                                 \n",
      " lstm_1 (LSTM)               (None, 32)                8320      \n",
      "                                                                 \n",
      " dense (Dense)               (None, 100)               3300      \n",
      "                                                                 \n",
      " dense_1 (Dense)             (None, 1)                 101       \n",
      "                                                                 \n",
      "=================================================================\n",
      "Total params: 1,963,345\n",
      "Trainable params: 1,963,345\n",
      "Non-trainable params: 0\n",
      "_________________________________________________________________\n"
     ]
    }
   ],
   "source": [
    "model.summary()"
   ]
  },
  {
   "cell_type": "code",
   "execution_count": 29,
   "metadata": {
    "colab": {},
    "colab_type": "code",
    "executionInfo": {
     "elapsed": 1582,
     "status": "ok",
     "timestamp": 1597679176109,
     "user": {
      "displayName": "Syed Haseeb",
      "photoUrl": "https://lh3.googleusercontent.com/a-/AOh14GiU1MvX_JHrWEeG1uD80vpjRJjS1qi71gf88HdM=s64",
      "userId": "11840246011919030811"
     },
     "user_tz": -300
    },
    "id": "nOcSb8-dAptk"
   },
   "outputs": [],
   "source": [
    "model.layers[1].set_weights([embedding_matrix])\n",
    "model.layers[1].trainable = False"
   ]
  },
  {
   "cell_type": "code",
   "execution_count": 30,
   "metadata": {
    "colab": {},
    "colab_type": "code",
    "executionInfo": {
     "elapsed": 1139,
     "status": "ok",
     "timestamp": 1597679181887,
     "user": {
      "displayName": "Syed Haseeb",
      "photoUrl": "https://lh3.googleusercontent.com/a-/AOh14GiU1MvX_JHrWEeG1uD80vpjRJjS1qi71gf88HdM=s64",
      "userId": "11840246011919030811"
     },
     "user_tz": -300
    },
    "id": "_yeN4ct_Aptn"
   },
   "outputs": [],
   "source": [
    "model.compile(optimizer='rmsprop', loss='binary_crossentropy', metrics=['acc'])"
   ]
  },
  {
   "cell_type": "markdown",
   "metadata": {
    "colab_type": "text",
    "id": "r0I0vURwAptq"
   },
   "source": [
    "## Training the model"
   ]
  },
  {
   "cell_type": "code",
   "execution_count": 31,
   "metadata": {
    "colab": {},
    "colab_type": "code",
    "executionInfo": {
     "elapsed": 1349,
     "status": "ok",
     "timestamp": 1597679185473,
     "user": {
      "displayName": "Syed Haseeb",
      "photoUrl": "https://lh3.googleusercontent.com/a-/AOh14GiU1MvX_JHrWEeG1uD80vpjRJjS1qi71gf88HdM=s64",
      "userId": "11840246011919030811"
     },
     "user_tz": -300
    },
    "id": "OD1B-cJeAptr"
   },
   "outputs": [],
   "source": [
    "es = EarlyStopping(monitor='val_loss', mode='min')"
   ]
  },
  {
   "cell_type": "code",
   "execution_count": 32,
   "metadata": {
    "colab": {
     "base_uri": "https://localhost:8080/",
     "height": 151
    },
    "colab_type": "code",
    "executionInfo": {
     "elapsed": 257204,
     "status": "ok",
     "timestamp": 1597679469231,
     "user": {
      "displayName": "Syed Haseeb",
      "photoUrl": "https://lh3.googleusercontent.com/a-/AOh14GiU1MvX_JHrWEeG1uD80vpjRJjS1qi71gf88HdM=s64",
      "userId": "11840246011919030811"
     },
     "user_tz": -300
    },
    "id": "BZEjxDQlAptv",
    "outputId": "4573b2e7-a73d-41e4-b040-47886994dcda"
   },
   "outputs": [
    {
     "name": "stdout",
     "output_type": "stream",
     "text": [
      "Epoch 1/20\n",
      "153/153 [==============================] - 45s 266ms/step - loss: 0.5587 - acc: 0.7264 - val_loss: 0.5251 - val_acc: 0.7434\n",
      "Epoch 2/20\n",
      "153/153 [==============================] - 43s 278ms/step - loss: 0.5061 - acc: 0.7609 - val_loss: 0.4945 - val_acc: 0.7779\n"
     ]
    }
   ],
   "source": [
    "history = model.fit(sequences, y_train.values, epochs=20, validation_split=0.2, callbacks = [es])"
   ]
  },
  {
   "cell_type": "code",
   "execution_count": 34,
   "metadata": {
    "colab": {},
    "colab_type": "code",
    "executionInfo": {
     "elapsed": 228247,
     "status": "ok",
     "timestamp": 1597679469238,
     "user": {
      "displayName": "Syed Haseeb",
      "photoUrl": "https://lh3.googleusercontent.com/a-/AOh14GiU1MvX_JHrWEeG1uD80vpjRJjS1qi71gf88HdM=s64",
      "userId": "11840246011919030811"
     },
     "user_tz": -300
    },
    "id": "vOtdkfaiAptx"
   },
   "outputs": [],
   "source": [
    "model.save(\"trained.h5\")"
   ]
  },
  {
   "cell_type": "markdown",
   "metadata": {
    "colab_type": "text",
    "id": "VtZm6Kl7Apt1"
   },
   "source": [
    "## Evaluating the model:"
   ]
  },
  {
   "cell_type": "code",
   "execution_count": 234,
   "metadata": {},
   "outputs": [
    {
     "ename": "AttributeError",
     "evalue": "'Series' object has no attribute 'reshape'",
     "output_type": "error",
     "traceback": [
      "\u001b[0;31m---------------------------------------------------------------------------\u001b[0m",
      "\u001b[0;31mAttributeError\u001b[0m                            Traceback (most recent call last)",
      "Input \u001b[0;32mIn [234]\u001b[0m, in \u001b[0;36m<cell line: 1>\u001b[0;34m()\u001b[0m\n\u001b[0;32m----> 1\u001b[0m \u001b[43mx_test\u001b[49m\u001b[38;5;241;43m.\u001b[39;49m\u001b[43mreshape\u001b[49m(\u001b[38;5;241m1513\u001b[39m,\u001b[38;5;241m-\u001b[39m\u001b[38;5;241m1\u001b[39m)\n",
      "File \u001b[0;32m~/.local/lib/python3.8/site-packages/pandas/core/generic.py:5575\u001b[0m, in \u001b[0;36mNDFrame.__getattr__\u001b[0;34m(self, name)\u001b[0m\n\u001b[1;32m   5568\u001b[0m \u001b[38;5;28;01mif\u001b[39;00m (\n\u001b[1;32m   5569\u001b[0m     name \u001b[38;5;129;01mnot\u001b[39;00m \u001b[38;5;129;01min\u001b[39;00m \u001b[38;5;28mself\u001b[39m\u001b[38;5;241m.\u001b[39m_internal_names_set\n\u001b[1;32m   5570\u001b[0m     \u001b[38;5;129;01mand\u001b[39;00m name \u001b[38;5;129;01mnot\u001b[39;00m \u001b[38;5;129;01min\u001b[39;00m \u001b[38;5;28mself\u001b[39m\u001b[38;5;241m.\u001b[39m_metadata\n\u001b[1;32m   5571\u001b[0m     \u001b[38;5;129;01mand\u001b[39;00m name \u001b[38;5;129;01mnot\u001b[39;00m \u001b[38;5;129;01min\u001b[39;00m \u001b[38;5;28mself\u001b[39m\u001b[38;5;241m.\u001b[39m_accessors\n\u001b[1;32m   5572\u001b[0m     \u001b[38;5;129;01mand\u001b[39;00m \u001b[38;5;28mself\u001b[39m\u001b[38;5;241m.\u001b[39m_info_axis\u001b[38;5;241m.\u001b[39m_can_hold_identifiers_and_holds_name(name)\n\u001b[1;32m   5573\u001b[0m ):\n\u001b[1;32m   5574\u001b[0m     \u001b[38;5;28;01mreturn\u001b[39;00m \u001b[38;5;28mself\u001b[39m[name]\n\u001b[0;32m-> 5575\u001b[0m \u001b[38;5;28;01mreturn\u001b[39;00m \u001b[38;5;28;43mobject\u001b[39;49m\u001b[38;5;241;43m.\u001b[39;49m\u001b[38;5;21;43m__getattribute__\u001b[39;49m\u001b[43m(\u001b[49m\u001b[38;5;28;43mself\u001b[39;49m\u001b[43m,\u001b[49m\u001b[43m \u001b[49m\u001b[43mname\u001b[49m\u001b[43m)\u001b[49m\n",
      "\u001b[0;31mAttributeError\u001b[0m: 'Series' object has no attribute 'reshape'"
     ]
    }
   ],
   "source": [
    "x_test.reshape(1513,-1)"
   ]
  },
  {
   "cell_type": "code",
   "execution_count": 235,
   "metadata": {
    "colab": {},
    "colab_type": "code",
    "executionInfo": {
     "elapsed": 209284,
     "status": "ok",
     "timestamp": 1597679469240,
     "user": {
      "displayName": "Syed Haseeb",
      "photoUrl": "https://lh3.googleusercontent.com/a-/AOh14GiU1MvX_JHrWEeG1uD80vpjRJjS1qi71gf88HdM=s64",
      "userId": "11840246011919030811"
     },
     "user_tz": -300
    },
    "id": "W7QOrjGoApt1"
   },
   "outputs": [],
   "source": [
    "sequences = tokenizer.texts_to_sequences(x_test.values)\n",
    "sequences = sequence.pad_sequences(sequences, maxlen=200)"
   ]
  },
  {
   "cell_type": "code",
   "execution_count": null,
   "metadata": {},
   "outputs": [],
   "source": []
  },
  {
   "cell_type": "code",
   "execution_count": 236,
   "metadata": {},
   "outputs": [
    {
     "data": {
      "text/plain": [
       "6100    @AP \\n Too slow report the sinking boat in the...\n",
       "6101                  We walk the plank of a sinking ship\n",
       "6102    The Sinking Ship (@sinkingshipindy): Scarlet L...\n",
       "6103    that horrible sinking feeling when youÛªve be...\n",
       "6104    In the movie 'Titanic' Jack and Rose both coul...\n",
       "                              ...                        \n",
       "7608    Two giant cranes holding a bridge collapse int...\n",
       "7609    @aria_ahrary @TheTawniest The out of control w...\n",
       "7610    M1.94 [01:04 UTC]?5km S of Volcano Hawaii. htt...\n",
       "7611    Police investigating after an e-bike collided ...\n",
       "7612    The Latest: More Homes Razed by Northern Calif...\n",
       "Name: text, Length: 1513, dtype: object"
      ]
     },
     "execution_count": 236,
     "metadata": {},
     "output_type": "execute_result"
    }
   ],
   "source": [
    "x_test"
   ]
  },
  {
   "cell_type": "code",
   "execution_count": 237,
   "metadata": {
    "colab": {},
    "colab_type": "code",
    "executionInfo": {
     "elapsed": 205488,
     "status": "ok",
     "timestamp": 1597679469241,
     "user": {
      "displayName": "Syed Haseeb",
      "photoUrl": "https://lh3.googleusercontent.com/a-/AOh14GiU1MvX_JHrWEeG1uD80vpjRJjS1qi71gf88HdM=s64",
      "userId": "11840246011919030811"
     },
     "user_tz": -300
    },
    "id": "H9Okx-c6Apt5"
   },
   "outputs": [],
   "source": [
    "x_test = sequences"
   ]
  },
  {
   "cell_type": "code",
   "execution_count": 238,
   "metadata": {
    "colab": {
     "base_uri": "https://localhost:8080/",
     "height": 34
    },
    "colab_type": "code",
    "executionInfo": {
     "elapsed": 187736,
     "status": "ok",
     "timestamp": 1597679471584,
     "user": {
      "displayName": "Syed Haseeb",
      "photoUrl": "https://lh3.googleusercontent.com/a-/AOh14GiU1MvX_JHrWEeG1uD80vpjRJjS1qi71gf88HdM=s64",
      "userId": "11840246011919030811"
     },
     "user_tz": -300
    },
    "id": "XBcheMQaApt8",
    "outputId": "4662c574-3300-4a7e-89c2-2cad0e3cfe18"
   },
   "outputs": [
    {
     "name": "stdout",
     "output_type": "stream",
     "text": [
      "48/48 [==============================] - 1s 28ms/step - loss: 0.4620 - acc: 0.7799\n"
     ]
    }
   ],
   "source": [
    "score = model.evaluate(x_test, y_test.values)"
   ]
  },
  {
   "cell_type": "code",
   "execution_count": 239,
   "metadata": {
    "colab": {
     "base_uri": "https://localhost:8080/",
     "height": 34
    },
    "colab_type": "code",
    "executionInfo": {
     "elapsed": 186004,
     "status": "ok",
     "timestamp": 1597679471589,
     "user": {
      "displayName": "Syed Haseeb",
      "photoUrl": "https://lh3.googleusercontent.com/a-/AOh14GiU1MvX_JHrWEeG1uD80vpjRJjS1qi71gf88HdM=s64",
      "userId": "11840246011919030811"
     },
     "user_tz": -300
    },
    "id": "VysYvY4KApuA",
    "outputId": "d98a69cb-222d-4e90-f1e8-e08533d0d41c"
   },
   "outputs": [
    {
     "data": {
      "text/plain": [
       "[0.4619843661785126, 0.7799074649810791]"
      ]
     },
     "execution_count": 239,
     "metadata": {},
     "output_type": "execute_result"
    }
   ],
   "source": [
    "score"
   ]
  },
  {
   "cell_type": "markdown",
   "metadata": {
    "colab_type": "text",
    "id": "EhkQIrAXIVDR"
   },
   "source": [
    "## Now loading Kaggle's Test Set:"
   ]
  },
  {
   "cell_type": "code",
   "execution_count": 240,
   "metadata": {
    "colab": {},
    "colab_type": "code",
    "executionInfo": {
     "elapsed": 1148,
     "status": "ok",
     "timestamp": 1597680345058,
     "user": {
      "displayName": "Syed Haseeb",
      "photoUrl": "https://lh3.googleusercontent.com/a-/AOh14GiU1MvX_JHrWEeG1uD80vpjRJjS1qi71gf88HdM=s64",
      "userId": "11840246011919030811"
     },
     "user_tz": -300
    },
    "id": "ldWcOQGBIZ7d"
   },
   "outputs": [],
   "source": [
    "test = pd.read_csv(\"test.csv\")"
   ]
  },
  {
   "cell_type": "code",
   "execution_count": 241,
   "metadata": {
    "colab": {
     "base_uri": "https://localhost:8080/",
     "height": 402
    },
    "colab_type": "code",
    "executionInfo": {
     "elapsed": 743,
     "status": "ok",
     "timestamp": 1597680345481,
     "user": {
      "displayName": "Syed Haseeb",
      "photoUrl": "https://lh3.googleusercontent.com/a-/AOh14GiU1MvX_JHrWEeG1uD80vpjRJjS1qi71gf88HdM=s64",
      "userId": "11840246011919030811"
     },
     "user_tz": -300
    },
    "id": "cyHlzSkpIjEV",
    "outputId": "29aeaa85-d02c-4ce5-d10d-69ca2227dae8"
   },
   "outputs": [
    {
     "data": {
      "text/html": [
       "<div>\n",
       "<style scoped>\n",
       "    .dataframe tbody tr th:only-of-type {\n",
       "        vertical-align: middle;\n",
       "    }\n",
       "\n",
       "    .dataframe tbody tr th {\n",
       "        vertical-align: top;\n",
       "    }\n",
       "\n",
       "    .dataframe thead th {\n",
       "        text-align: right;\n",
       "    }\n",
       "</style>\n",
       "<table border=\"1\" class=\"dataframe\">\n",
       "  <thead>\n",
       "    <tr style=\"text-align: right;\">\n",
       "      <th></th>\n",
       "      <th>id</th>\n",
       "      <th>keyword</th>\n",
       "      <th>location</th>\n",
       "      <th>text</th>\n",
       "    </tr>\n",
       "  </thead>\n",
       "  <tbody>\n",
       "    <tr>\n",
       "      <th>0</th>\n",
       "      <td>0</td>\n",
       "      <td>NaN</td>\n",
       "      <td>NaN</td>\n",
       "      <td>Just happened a terrible car crash</td>\n",
       "    </tr>\n",
       "    <tr>\n",
       "      <th>1</th>\n",
       "      <td>2</td>\n",
       "      <td>NaN</td>\n",
       "      <td>NaN</td>\n",
       "      <td>Heard about #earthquake is different cities, s...</td>\n",
       "    </tr>\n",
       "    <tr>\n",
       "      <th>2</th>\n",
       "      <td>3</td>\n",
       "      <td>NaN</td>\n",
       "      <td>NaN</td>\n",
       "      <td>there is a forest fire at spot pond, geese are...</td>\n",
       "    </tr>\n",
       "    <tr>\n",
       "      <th>3</th>\n",
       "      <td>9</td>\n",
       "      <td>NaN</td>\n",
       "      <td>NaN</td>\n",
       "      <td>Apocalypse lighting. #Spokane #wildfires</td>\n",
       "    </tr>\n",
       "    <tr>\n",
       "      <th>4</th>\n",
       "      <td>11</td>\n",
       "      <td>NaN</td>\n",
       "      <td>NaN</td>\n",
       "      <td>Typhoon Soudelor kills 28 in China and Taiwan</td>\n",
       "    </tr>\n",
       "    <tr>\n",
       "      <th>...</th>\n",
       "      <td>...</td>\n",
       "      <td>...</td>\n",
       "      <td>...</td>\n",
       "      <td>...</td>\n",
       "    </tr>\n",
       "    <tr>\n",
       "      <th>3258</th>\n",
       "      <td>10861</td>\n",
       "      <td>NaN</td>\n",
       "      <td>NaN</td>\n",
       "      <td>EARTHQUAKE SAFETY LOS ANGELES ÛÒ SAFETY FASTE...</td>\n",
       "    </tr>\n",
       "    <tr>\n",
       "      <th>3259</th>\n",
       "      <td>10865</td>\n",
       "      <td>NaN</td>\n",
       "      <td>NaN</td>\n",
       "      <td>Storm in RI worse than last hurricane. My city...</td>\n",
       "    </tr>\n",
       "    <tr>\n",
       "      <th>3260</th>\n",
       "      <td>10868</td>\n",
       "      <td>NaN</td>\n",
       "      <td>NaN</td>\n",
       "      <td>Green Line derailment in Chicago http://t.co/U...</td>\n",
       "    </tr>\n",
       "    <tr>\n",
       "      <th>3261</th>\n",
       "      <td>10874</td>\n",
       "      <td>NaN</td>\n",
       "      <td>NaN</td>\n",
       "      <td>MEG issues Hazardous Weather Outlook (HWO) htt...</td>\n",
       "    </tr>\n",
       "    <tr>\n",
       "      <th>3262</th>\n",
       "      <td>10875</td>\n",
       "      <td>NaN</td>\n",
       "      <td>NaN</td>\n",
       "      <td>#CityofCalgary has activated its Municipal Eme...</td>\n",
       "    </tr>\n",
       "  </tbody>\n",
       "</table>\n",
       "<p>3263 rows × 4 columns</p>\n",
       "</div>"
      ],
      "text/plain": [
       "         id keyword location  \\\n",
       "0         0     NaN      NaN   \n",
       "1         2     NaN      NaN   \n",
       "2         3     NaN      NaN   \n",
       "3         9     NaN      NaN   \n",
       "4        11     NaN      NaN   \n",
       "...     ...     ...      ...   \n",
       "3258  10861     NaN      NaN   \n",
       "3259  10865     NaN      NaN   \n",
       "3260  10868     NaN      NaN   \n",
       "3261  10874     NaN      NaN   \n",
       "3262  10875     NaN      NaN   \n",
       "\n",
       "                                                   text  \n",
       "0                    Just happened a terrible car crash  \n",
       "1     Heard about #earthquake is different cities, s...  \n",
       "2     there is a forest fire at spot pond, geese are...  \n",
       "3              Apocalypse lighting. #Spokane #wildfires  \n",
       "4         Typhoon Soudelor kills 28 in China and Taiwan  \n",
       "...                                                 ...  \n",
       "3258  EARTHQUAKE SAFETY LOS ANGELES ÛÒ SAFETY FASTE...  \n",
       "3259  Storm in RI worse than last hurricane. My city...  \n",
       "3260  Green Line derailment in Chicago http://t.co/U...  \n",
       "3261  MEG issues Hazardous Weather Outlook (HWO) htt...  \n",
       "3262  #CityofCalgary has activated its Municipal Eme...  \n",
       "\n",
       "[3263 rows x 4 columns]"
      ]
     },
     "execution_count": 241,
     "metadata": {},
     "output_type": "execute_result"
    }
   ],
   "source": [
    "test"
   ]
  },
  {
   "cell_type": "code",
   "execution_count": 242,
   "metadata": {
    "colab": {},
    "colab_type": "code",
    "executionInfo": {
     "elapsed": 1102,
     "status": "ok",
     "timestamp": 1597680347176,
     "user": {
      "displayName": "Syed Haseeb",
      "photoUrl": "https://lh3.googleusercontent.com/a-/AOh14GiU1MvX_JHrWEeG1uD80vpjRJjS1qi71gf88HdM=s64",
      "userId": "11840246011919030811"
     },
     "user_tz": -300
    },
    "id": "quDNw3jqI9C4"
   },
   "outputs": [],
   "source": [
    "ids = test.id"
   ]
  },
  {
   "cell_type": "code",
   "execution_count": 243,
   "metadata": {
    "colab": {},
    "colab_type": "code",
    "executionInfo": {
     "elapsed": 800,
     "status": "ok",
     "timestamp": 1597680348816,
     "user": {
      "displayName": "Syed Haseeb",
      "photoUrl": "https://lh3.googleusercontent.com/a-/AOh14GiU1MvX_JHrWEeG1uD80vpjRJjS1qi71gf88HdM=s64",
      "userId": "11840246011919030811"
     },
     "user_tz": -300
    },
    "id": "B8XYwL6EIkTu"
   },
   "outputs": [],
   "source": [
    "test = test.text"
   ]
  },
  {
   "cell_type": "code",
   "execution_count": 244,
   "metadata": {
    "colab": {},
    "colab_type": "code",
    "executionInfo": {
     "elapsed": 1162,
     "status": "ok",
     "timestamp": 1597680350248,
     "user": {
      "displayName": "Syed Haseeb",
      "photoUrl": "https://lh3.googleusercontent.com/a-/AOh14GiU1MvX_JHrWEeG1uD80vpjRJjS1qi71gf88HdM=s64",
      "userId": "11840246011919030811"
     },
     "user_tz": -300
    },
    "id": "hxg79QVKIsi-"
   },
   "outputs": [],
   "source": [
    "sequences = tokenizer.texts_to_sequences(test)\n",
    "sequences = sequence.pad_sequences(sequences, maxlen=200)"
   ]
  },
  {
   "cell_type": "code",
   "execution_count": 245,
   "metadata": {
    "colab": {},
    "colab_type": "code",
    "executionInfo": {
     "elapsed": 6214,
     "status": "ok",
     "timestamp": 1597680469643,
     "user": {
      "displayName": "Syed Haseeb",
      "photoUrl": "https://lh3.googleusercontent.com/a-/AOh14GiU1MvX_JHrWEeG1uD80vpjRJjS1qi71gf88HdM=s64",
      "userId": "11840246011919030811"
     },
     "user_tz": -300
    },
    "id": "sPho3yytI0R7"
   },
   "outputs": [],
   "source": [
    "results = model.predict(sequences)"
   ]
  },
  {
   "cell_type": "code",
   "execution_count": 246,
   "metadata": {
    "colab": {},
    "colab_type": "code",
    "executionInfo": {
     "elapsed": 31297,
     "status": "ok",
     "timestamp": 1597680545930,
     "user": {
      "displayName": "Syed Haseeb",
      "photoUrl": "https://lh3.googleusercontent.com/a-/AOh14GiU1MvX_JHrWEeG1uD80vpjRJjS1qi71gf88HdM=s64",
      "userId": "11840246011919030811"
     },
     "user_tz": -300
    },
    "id": "YGrtcrLxJPNL"
   },
   "outputs": [],
   "source": [
    "results = results.round()"
   ]
  },
  {
   "cell_type": "code",
   "execution_count": null,
   "metadata": {
    "colab": {},
    "colab_type": "code",
    "executionInfo": {
     "elapsed": 27744,
     "status": "ok",
     "timestamp": 1597680545933,
     "user": {
      "displayName": "Syed Haseeb",
      "photoUrl": "https://lh3.googleusercontent.com/a-/AOh14GiU1MvX_JHrWEeG1uD80vpjRJjS1qi71gf88HdM=s64",
      "userId": "11840246011919030811"
     },
     "user_tz": -300
    },
    "id": "VaT-mCDBK9Ej"
   },
   "outputs": [],
   "source": []
  },
  {
   "cell_type": "code",
   "execution_count": 247,
   "metadata": {
    "colab": {},
    "colab_type": "code",
    "executionInfo": {
     "elapsed": 24646,
     "status": "ok",
     "timestamp": 1597680545934,
     "user": {
      "displayName": "Syed Haseeb",
      "photoUrl": "https://lh3.googleusercontent.com/a-/AOh14GiU1MvX_JHrWEeG1uD80vpjRJjS1qi71gf88HdM=s64",
      "userId": "11840246011919030811"
     },
     "user_tz": -300
    },
    "id": "x2G7FuP1JSRS"
   },
   "outputs": [],
   "source": [
    "results = results.squeeze()"
   ]
  },
  {
   "cell_type": "code",
   "execution_count": 248,
   "metadata": {
    "colab": {},
    "colab_type": "code",
    "executionInfo": {
     "elapsed": 918,
     "status": "ok",
     "timestamp": 1597680648895,
     "user": {
      "displayName": "Syed Haseeb",
      "photoUrl": "https://lh3.googleusercontent.com/a-/AOh14GiU1MvX_JHrWEeG1uD80vpjRJjS1qi71gf88HdM=s64",
      "userId": "11840246011919030811"
     },
     "user_tz": -300
    },
    "id": "7upaVz83JX3s"
   },
   "outputs": [],
   "source": [
    "csv_df = pd.DataFrame({\n",
    "    \"id\": ids,\n",
    "    \"target\": results\n",
    "})"
   ]
  },
  {
   "cell_type": "code",
   "execution_count": 249,
   "metadata": {
    "colab": {},
    "colab_type": "code",
    "executionInfo": {
     "elapsed": 1477,
     "status": "ok",
     "timestamp": 1597680652393,
     "user": {
      "displayName": "Syed Haseeb",
      "photoUrl": "https://lh3.googleusercontent.com/a-/AOh14GiU1MvX_JHrWEeG1uD80vpjRJjS1qi71gf88HdM=s64",
      "userId": "11840246011919030811"
     },
     "user_tz": -300
    },
    "id": "EYicoI6gLoju"
   },
   "outputs": [],
   "source": [
    "csv_df.index = csv_df.id"
   ]
  },
  {
   "cell_type": "code",
   "execution_count": 250,
   "metadata": {
    "colab": {},
    "colab_type": "code",
    "executionInfo": {
     "elapsed": 906,
     "status": "ok",
     "timestamp": 1597680695738,
     "user": {
      "displayName": "Syed Haseeb",
      "photoUrl": "https://lh3.googleusercontent.com/a-/AOh14GiU1MvX_JHrWEeG1uD80vpjRJjS1qi71gf88HdM=s64",
      "userId": "11840246011919030811"
     },
     "user_tz": -300
    },
    "id": "Zq81yG0UMAkP"
   },
   "outputs": [],
   "source": [
    "csv_df = csv_df[\"target\"]"
   ]
  },
  {
   "cell_type": "code",
   "execution_count": 251,
   "metadata": {
    "colab": {},
    "colab_type": "code",
    "executionInfo": {
     "elapsed": 1001,
     "status": "ok",
     "timestamp": 1597681378755,
     "user": {
      "displayName": "Syed Haseeb",
      "photoUrl": "https://lh3.googleusercontent.com/a-/AOh14GiU1MvX_JHrWEeG1uD80vpjRJjS1qi71gf88HdM=s64",
      "userId": "11840246011919030811"
     },
     "user_tz": -300
    },
    "id": "RgUH1Ap7OWWx"
   },
   "outputs": [],
   "source": [
    "csv_df = csv_df.astype(int)"
   ]
  },
  {
   "cell_type": "code",
   "execution_count": 252,
   "metadata": {
    "colab": {},
    "colab_type": "code",
    "executionInfo": {
     "elapsed": 1016,
     "status": "ok",
     "timestamp": 1597681391674,
     "user": {
      "displayName": "Syed Haseeb",
      "photoUrl": "https://lh3.googleusercontent.com/a-/AOh14GiU1MvX_JHrWEeG1uD80vpjRJjS1qi71gf88HdM=s64",
      "userId": "11840246011919030811"
     },
     "user_tz": -300
    },
    "id": "iXFVMxiwJnv1"
   },
   "outputs": [],
   "source": [
    "csv_df.to_csv(proj_dir+\"results.csv\", header=True)"
   ]
  },
  {
   "cell_type": "markdown",
   "metadata": {
    "colab_type": "text",
    "id": "W1dM09e_ApuD"
   },
   "source": [
    "## Trying the model in action"
   ]
  },
  {
   "cell_type": "code",
   "execution_count": 1,
   "metadata": {},
   "outputs": [],
   "source": [
    "import numpy as np\n",
    "from tensorflow.keras.preprocessing import sequence\n",
    "from tensorflow.keras.preprocessing.text import Tokenizer\n",
    "tokenizer = Tokenizer()"
   ]
  },
  {
   "cell_type": "code",
   "execution_count": 2,
   "metadata": {
    "colab": {},
    "colab_type": "code",
    "executionInfo": {
     "elapsed": 974,
     "status": "ok",
     "timestamp": 1597680105973,
     "user": {
      "displayName": "Syed Haseeb",
      "photoUrl": "https://lh3.googleusercontent.com/a-/AOh14GiU1MvX_JHrWEeG1uD80vpjRJjS1qi71gf88HdM=s64",
      "userId": "11840246011919030811"
     },
     "user_tz": -300
    },
    "id": "ln5wt2xmApuE"
   },
   "outputs": [],
   "source": [
    "def encoder(text):\n",
    "    text = tokenizer.texts_to_sequences([text])\n",
    "    text = sequence.pad_sequences(text, maxlen=200)\n",
    "    return text"
   ]
  },
  {
   "cell_type": "code",
   "execution_count": 3,
   "metadata": {
    "colab": {},
    "colab_type": "code",
    "executionInfo": {
     "elapsed": 1061,
     "status": "ok",
     "timestamp": 1597680125569,
     "user": {
      "displayName": "Syed Haseeb",
      "photoUrl": "https://lh3.googleusercontent.com/a-/AOh14GiU1MvX_JHrWEeG1uD80vpjRJjS1qi71gf88HdM=s64",
      "userId": "11840246011919030811"
     },
     "user_tz": -300
    },
    "id": "fwDnr5EkApuG"
   },
   "outputs": [],
   "source": [
    "def predict(text):\n",
    "    encoded_text = encoder(text)\n",
    "#     print(encoded_text)\n",
    "    prediction = (model.predict(encoded_text))\n",
    "    print(prediction)\n",
    "    prediction = np.round(prediction)\n",
    "    if prediction==1:\n",
    "        return \"Disaster\"\n",
    "    return \"Not a Disaster\""
   ]
  },
  {
   "cell_type": "code",
   "execution_count": 5,
   "metadata": {
    "colab": {
     "base_uri": "https://localhost:8080/",
     "height": 52
    },
    "colab_type": "code",
    "executionInfo": {
     "elapsed": 1383,
     "status": "ok",
     "timestamp": 1597680146872,
     "user": {
      "displayName": "Syed Haseeb",
      "photoUrl": "https://lh3.googleusercontent.com/a-/AOh14GiU1MvX_JHrWEeG1uD80vpjRJjS1qi71gf88HdM=s64",
      "userId": "11840246011919030811"
     },
     "user_tz": -300
    },
    "id": "da-xsb7zApuI",
    "outputId": "ef302aba-1e77-45f6-9674-e25b7a8586b3"
   },
   "outputs": [
    {
     "name": "stdout",
     "output_type": "stream",
     "text": [
      "1/1 [==============================] - 0s 404ms/step\n",
      "[[0.21607375]]\n"
     ]
    },
    {
     "data": {
      "text/plain": [
       "'Not a Disaster'"
      ]
     },
     "execution_count": 5,
     "metadata": {},
     "output_type": "execute_result"
    }
   ],
   "source": [
    "predict(\"OMG a blazing sky!\")"
   ]
  },
  {
   "cell_type": "code",
   "execution_count": 6,
   "metadata": {
    "colab": {
     "base_uri": "https://localhost:8080/",
     "height": 52
    },
    "colab_type": "code",
    "executionInfo": {
     "elapsed": 1786,
     "status": "ok",
     "timestamp": 1597680205246,
     "user": {
      "displayName": "Syed Haseeb",
      "photoUrl": "https://lh3.googleusercontent.com/a-/AOh14GiU1MvX_JHrWEeG1uD80vpjRJjS1qi71gf88HdM=s64",
      "userId": "11840246011919030811"
     },
     "user_tz": -300
    },
    "id": "qqJQGLxQApuN",
    "outputId": "02586a50-b48d-430b-9802-c5af501b2e1c"
   },
   "outputs": [
    {
     "name": "stdout",
     "output_type": "stream",
     "text": [
      "1/1 [==============================] - 0s 36ms/step\n",
      "[[0.21607375]]\n"
     ]
    },
    {
     "data": {
      "text/plain": [
       "'Not a Disaster'"
      ]
     },
     "execution_count": 6,
     "metadata": {},
     "output_type": "execute_result"
    }
   ],
   "source": [
    "predict(\"fire fighters are here\")"
   ]
  },
  {
   "cell_type": "markdown",
   "metadata": {
    "colab_type": "text",
    "id": "D5ZzxZrsAput"
   },
   "source": [
    "# The End?"
   ]
  },
  {
   "cell_type": "code",
   "execution_count": 257,
   "metadata": {
    "colab": {},
    "colab_type": "code",
    "id": "SIeEnD4FApuu"
   },
   "outputs": [
    {
     "name": "stdout",
     "output_type": "stream",
     "text": [
      "[[0.57285625]]\n"
     ]
    },
    {
     "data": {
      "text/plain": [
       "'Disaster'"
      ]
     },
     "execution_count": 257,
     "metadata": {},
     "output_type": "execute_result"
    }
   ],
   "source": [
    "predict(\"earthquake is here\")"
   ]
  },
  {
   "cell_type": "markdown",
   "metadata": {
    "colab_type": "text",
    "id": "6bWm2B1pApu1"
   },
   "source": []
  },
  {
   "cell_type": "code",
   "execution_count": 258,
   "metadata": {},
   "outputs": [
    {
     "name": "stdout",
     "output_type": "stream",
     "text": [
      "[[0.20029667]]\n"
     ]
    },
    {
     "data": {
      "text/plain": [
       "'Not a Disaster'"
      ]
     },
     "execution_count": 258,
     "metadata": {},
     "output_type": "execute_result"
    }
   ],
   "source": [
    "predict(\"life\")"
   ]
  },
  {
   "cell_type": "code",
   "execution_count": 259,
   "metadata": {},
   "outputs": [
    {
     "name": "stdout",
     "output_type": "stream",
     "text": [
      "[[0.26070035]]\n"
     ]
    },
    {
     "data": {
      "text/plain": [
       "'Not a Disaster'"
      ]
     },
     "execution_count": 259,
     "metadata": {},
     "output_type": "execute_result"
    }
   ],
   "source": [
    "predict(\"fire\")"
   ]
  },
  {
   "cell_type": "code",
   "execution_count": 260,
   "metadata": {},
   "outputs": [
    {
     "name": "stdout",
     "output_type": "stream",
     "text": [
      "[[0.13923046]]\n"
     ]
    },
    {
     "data": {
      "text/plain": [
       "'Not a Disaster'"
      ]
     },
     "execution_count": 260,
     "metadata": {},
     "output_type": "execute_result"
    }
   ],
   "source": [
    "predict(\"text me\")"
   ]
  },
  {
   "cell_type": "code",
   "execution_count": 263,
   "metadata": {},
   "outputs": [
    {
     "name": "stdout",
     "output_type": "stream",
     "text": [
      "[[0.6681422]]\n"
     ]
    },
    {
     "data": {
      "text/plain": [
       "'Disaster'"
      ]
     },
     "execution_count": 263,
     "metadata": {},
     "output_type": "execute_result"
    }
   ],
   "source": [
    "predict(\"run for your life emergency bomb bomb bomb\")"
   ]
  },
  {
   "cell_type": "code",
   "execution_count": 262,
   "metadata": {},
   "outputs": [
    {
     "name": "stdout",
     "output_type": "stream",
     "text": [
      "[[0.8116151]]\n"
     ]
    },
    {
     "data": {
      "text/plain": [
       "'Disaster'"
      ]
     },
     "execution_count": 262,
     "metadata": {},
     "output_type": "execute_result"
    }
   ],
   "source": [
    "predict(\"earthquake bomb boom boom\")"
   ]
  },
  {
   "cell_type": "code",
   "execution_count": 264,
   "metadata": {},
   "outputs": [
    {
     "name": "stdout",
     "output_type": "stream",
     "text": [
      "[[0.21449864]]\n"
     ]
    },
    {
     "data": {
      "text/plain": [
       "'Not a Disaster'"
      ]
     },
     "execution_count": 264,
     "metadata": {},
     "output_type": "execute_result"
    }
   ],
   "source": [
    "predict(\"sunflowers daisies watermelons\")"
   ]
  },
  {
   "cell_type": "code",
   "execution_count": 266,
   "metadata": {},
   "outputs": [
    {
     "name": "stdout",
     "output_type": "stream",
     "text": [
      "[[0.21449864]]\n"
     ]
    },
    {
     "data": {
      "text/plain": [
       "'Not a Disaster'"
      ]
     },
     "execution_count": 266,
     "metadata": {},
     "output_type": "execute_result"
    }
   ],
   "source": [
    "predict(\"tanay gupta\")"
   ]
  },
  {
   "cell_type": "code",
   "execution_count": 267,
   "metadata": {},
   "outputs": [
    {
     "name": "stdout",
     "output_type": "stream",
     "text": [
      "[[0.21449864]]\n"
     ]
    },
    {
     "data": {
      "text/plain": [
       "'Not a Disaster'"
      ]
     },
     "execution_count": 267,
     "metadata": {},
     "output_type": "execute_result"
    }
   ],
   "source": [
    "predict(\"anshita palorkar\")"
   ]
  },
  {
   "cell_type": "code",
   "execution_count": 268,
   "metadata": {},
   "outputs": [
    {
     "name": "stdout",
     "output_type": "stream",
     "text": [
      "[[0.21449864]]\n"
     ]
    },
    {
     "data": {
      "text/plain": [
       "'Not a Disaster'"
      ]
     },
     "execution_count": 268,
     "metadata": {},
     "output_type": "execute_result"
    }
   ],
   "source": [
    "predict(\"gautham prabhu\")"
   ]
  },
  {
   "cell_type": "code",
   "execution_count": 269,
   "metadata": {},
   "outputs": [
    {
     "name": "stdout",
     "output_type": "stream",
     "text": [
      "[[0.21449864]]\n"
     ]
    },
    {
     "data": {
      "text/plain": [
       "'Not a Disaster'"
      ]
     },
     "execution_count": 269,
     "metadata": {},
     "output_type": "execute_result"
    }
   ],
   "source": [
    "predict(\"metta venkata srujan \")"
   ]
  },
  {
   "cell_type": "code",
   "execution_count": 270,
   "metadata": {},
   "outputs": [
    {
     "name": "stdout",
     "output_type": "stream",
     "text": [
      "[[0.21449864]]\n"
     ]
    },
    {
     "data": {
      "text/plain": [
       "'Not a Disaster'"
      ]
     },
     "execution_count": 270,
     "metadata": {},
     "output_type": "execute_result"
    }
   ],
   "source": [
    "predict(\"gujarat\")"
   ]
  },
  {
   "cell_type": "code",
   "execution_count": 272,
   "metadata": {},
   "outputs": [
    {
     "name": "stdout",
     "output_type": "stream",
     "text": [
      "[[0.5752065]]\n"
     ]
    },
    {
     "data": {
      "text/plain": [
       "'Disaster'"
      ]
     },
     "execution_count": 272,
     "metadata": {},
     "output_type": "execute_result"
    }
   ],
   "source": [
    "predict(\"fire fire help\")"
   ]
  },
  {
   "cell_type": "code",
   "execution_count": 273,
   "metadata": {},
   "outputs": [
    {
     "name": "stdout",
     "output_type": "stream",
     "text": [
      "[[0.15648368]]\n"
     ]
    },
    {
     "data": {
      "text/plain": [
       "'Not a Disaster'"
      ]
     },
     "execution_count": 273,
     "metadata": {},
     "output_type": "execute_result"
    }
   ],
   "source": [
    "predict(\"you are an asshole\")"
   ]
  },
  {
   "cell_type": "code",
   "execution_count": 274,
   "metadata": {},
   "outputs": [
    {
     "name": "stdout",
     "output_type": "stream",
     "text": [
      "[[0.761991]]\n"
     ]
    },
    {
     "data": {
      "text/plain": [
       "'Disaster'"
      ]
     },
     "execution_count": 274,
     "metadata": {},
     "output_type": "execute_result"
    }
   ],
   "source": [
    "predict(\"earthquake bomb bomb\")"
   ]
  },
  {
   "cell_type": "code",
   "execution_count": 275,
   "metadata": {},
   "outputs": [
    {
     "name": "stdout",
     "output_type": "stream",
     "text": [
      "[[0.28959823]]\n"
     ]
    },
    {
     "data": {
      "text/plain": [
       "'Not a Disaster'"
      ]
     },
     "execution_count": 275,
     "metadata": {},
     "output_type": "execute_result"
    }
   ],
   "source": [
    "predict(\"send help to refugees\")"
   ]
  },
  {
   "cell_type": "code",
   "execution_count": 276,
   "metadata": {},
   "outputs": [
    {
     "name": "stdout",
     "output_type": "stream",
     "text": [
      "[[0.22379905]]\n"
     ]
    },
    {
     "data": {
      "text/plain": [
       "'Not a Disaster'"
      ]
     },
     "execution_count": 276,
     "metadata": {},
     "output_type": "execute_result"
    }
   ],
   "source": [
    "predict(\"send help we are stuck\")"
   ]
  },
  {
   "cell_type": "code",
   "execution_count": 282,
   "metadata": {},
   "outputs": [
    {
     "name": "stdout",
     "output_type": "stream",
     "text": [
      "[[0.62048584]]\n"
     ]
    },
    {
     "data": {
      "text/plain": [
       "'Disaster'"
      ]
     },
     "execution_count": 282,
     "metadata": {},
     "output_type": "execute_result"
    }
   ],
   "source": [
    "predict(\"flash flood is killing me\")"
   ]
  },
  {
   "cell_type": "code",
   "execution_count": 283,
   "metadata": {},
   "outputs": [
    {
     "name": "stdout",
     "output_type": "stream",
     "text": [
      "[[0.2707003]]\n"
     ]
    },
    {
     "data": {
      "text/plain": [
       "'Not a Disaster'"
      ]
     },
     "execution_count": 283,
     "metadata": {},
     "output_type": "execute_result"
    }
   ],
   "source": [
    "predict(\"flood\")"
   ]
  },
  {
   "cell_type": "code",
   "execution_count": 284,
   "metadata": {},
   "outputs": [
    {
     "name": "stdout",
     "output_type": "stream",
     "text": [
      "[[0.29822612]]\n"
     ]
    },
    {
     "data": {
      "text/plain": [
       "'Not a Disaster'"
      ]
     },
     "execution_count": 284,
     "metadata": {},
     "output_type": "execute_result"
    }
   ],
   "source": [
    "predict(\"earthquake\")"
   ]
  },
  {
   "cell_type": "code",
   "execution_count": 285,
   "metadata": {},
   "outputs": [
    {
     "name": "stdout",
     "output_type": "stream",
     "text": [
      "[[0.56929356]]\n"
     ]
    },
    {
     "data": {
      "text/plain": [
       "'Disaster'"
      ]
     },
     "execution_count": 285,
     "metadata": {},
     "output_type": "execute_result"
    }
   ],
   "source": [
    "predict(\"an earthquake is happening\")"
   ]
  },
  {
   "cell_type": "code",
   "execution_count": 286,
   "metadata": {},
   "outputs": [
    {
     "name": "stdout",
     "output_type": "stream",
     "text": [
      "[[0.15757793]]\n"
     ]
    },
    {
     "data": {
      "text/plain": [
       "'Not a Disaster'"
      ]
     },
     "execution_count": 286,
     "metadata": {},
     "output_type": "execute_result"
    }
   ],
   "source": [
    "predict(\"I dont like earthquake\")"
   ]
  },
  {
   "cell_type": "code",
   "execution_count": 287,
   "metadata": {},
   "outputs": [
    {
     "name": "stdout",
     "output_type": "stream",
     "text": [
      "[[0.16240293]]\n"
     ]
    },
    {
     "data": {
      "text/plain": [
       "'Not a Disaster'"
      ]
     },
     "execution_count": 287,
     "metadata": {},
     "output_type": "execute_result"
    }
   ],
   "source": [
    "predict(\"Your mom is an earthquake\")\n",
    "\n"
   ]
  },
  {
   "cell_type": "code",
   "execution_count": 288,
   "metadata": {},
   "outputs": [
    {
     "name": "stdout",
     "output_type": "stream",
     "text": [
      "[[0.70219666]]\n"
     ]
    },
    {
     "data": {
      "text/plain": [
       "'Disaster'"
      ]
     },
     "execution_count": 288,
     "metadata": {},
     "output_type": "execute_result"
    }
   ],
   "source": [
    "predict(\"Flash floods in Nepal\")"
   ]
  },
  {
   "cell_type": "code",
   "execution_count": 289,
   "metadata": {},
   "outputs": [
    {
     "name": "stdout",
     "output_type": "stream",
     "text": [
      "[[0.2099728]]\n"
     ]
    },
    {
     "data": {
      "text/plain": [
       "'Not a Disaster'"
      ]
     },
     "execution_count": 289,
     "metadata": {},
     "output_type": "execute_result"
    }
   ],
   "source": [
    "predict(\"Earthquakes are bad\")"
   ]
  },
  {
   "cell_type": "code",
   "execution_count": 290,
   "metadata": {},
   "outputs": [
    {
     "name": "stdout",
     "output_type": "stream",
     "text": [
      "[[0.16299]]\n"
     ]
    },
    {
     "data": {
      "text/plain": [
       "'Not a Disaster'"
      ]
     },
     "execution_count": 290,
     "metadata": {},
     "output_type": "execute_result"
    }
   ],
   "source": [
    "predict(\"my fit is fire\")pr"
   ]
  },
  {
   "cell_type": "code",
   "execution_count": 291,
   "metadata": {},
   "outputs": [
    {
     "name": "stdout",
     "output_type": "stream",
     "text": [
      "[[0.21449864]]\n"
     ]
    },
    {
     "data": {
      "text/plain": [
       "'Not a Disaster'"
      ]
     },
     "execution_count": 291,
     "metadata": {},
     "output_type": "execute_result"
    }
   ],
   "source": [
    "predict(\"boom boom\")"
   ]
  },
  {
   "cell_type": "code",
   "execution_count": 292,
   "metadata": {},
   "outputs": [
    {
     "name": "stdout",
     "output_type": "stream",
     "text": [
      "[[0.2867236]]\n"
     ]
    },
    {
     "data": {
      "text/plain": [
       "'Not a Disaster'"
      ]
     },
     "execution_count": 292,
     "metadata": {},
     "output_type": "execute_result"
    }
   ],
   "source": [
    "predict(\"there lived a certain man in russia\")"
   ]
  },
  {
   "cell_type": "code",
   "execution_count": 296,
   "metadata": {},
   "outputs": [
    {
     "name": "stdout",
     "output_type": "stream",
     "text": [
      "[[0.5954698]]\n"
     ]
    },
    {
     "data": {
      "text/plain": [
       "'Disaster'"
      ]
     },
     "execution_count": 296,
     "metadata": {},
     "output_type": "execute_result"
    }
   ],
   "source": [
    "predict(\"Delhi riots buildings on fire everywhere\")"
   ]
  },
  {
   "cell_type": "code",
   "execution_count": 311,
   "metadata": {},
   "outputs": [
    {
     "name": "stdout",
     "output_type": "stream",
     "text": [
      "[[0.21449864]]\n"
     ]
    },
    {
     "data": {
      "text/plain": [
       "'Not a Disaster'"
      ]
     },
     "execution_count": 311,
     "metadata": {},
     "output_type": "execute_result"
    }
   ],
   "source": [
    "predict(\"Soumya\")"
   ]
  },
  {
   "cell_type": "code",
   "execution_count": 317,
   "metadata": {},
   "outputs": [
    {
     "name": "stdout",
     "output_type": "stream",
     "text": [
      "[[0.37445554]]\n"
     ]
    },
    {
     "data": {
      "text/plain": [
       "'Not a Disaster'"
      ]
     },
     "execution_count": 317,
     "metadata": {},
     "output_type": "execute_result"
    }
   ],
   "source": [
    "predict(\"bridge destroys in delhi\")"
   ]
  },
  {
   "cell_type": "code",
   "execution_count": 4,
   "metadata": {},
   "outputs": [],
   "source": [
    "from tensorflow.keras.models import load_model\n",
    "model = load_model('trained.h5')"
   ]
  },
  {
   "cell_type": "code",
   "execution_count": 9,
   "metadata": {},
   "outputs": [
    {
     "name": "stdout",
     "output_type": "stream",
     "text": [
      "1/1 [==============================] - 0s 38ms/step\n",
      "[[0.21607375]]\n"
     ]
    },
    {
     "data": {
      "text/plain": [
       "'Not a Disaster'"
      ]
     },
     "execution_count": 9,
     "metadata": {},
     "output_type": "execute_result"
    }
   ],
   "source": [
    "predict(\"hello\")"
   ]
  },
  {
   "cell_type": "code",
   "execution_count": null,
   "metadata": {},
   "outputs": [],
   "source": []
  }
 ],
 "metadata": {
  "colab": {
   "collapsed_sections": [
    "6bWm2B1pApu1"
   ],
   "name": "model.ipynb",
   "provenance": []
  },
  "kernelspec": {
   "display_name": "Python 3 (ipykernel)",
   "language": "python",
   "name": "python3"
  },
  "language_info": {
   "codemirror_mode": {
    "name": "ipython",
    "version": 3
   },
   "file_extension": ".py",
   "mimetype": "text/x-python",
   "name": "python",
   "nbconvert_exporter": "python",
   "pygments_lexer": "ipython3",
   "version": "3.9.12"
  }
 },
 "nbformat": 4,
 "nbformat_minor": 1
}
